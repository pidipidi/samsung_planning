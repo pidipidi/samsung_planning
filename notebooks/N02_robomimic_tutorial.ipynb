{
  "nbformat": 4,
  "nbformat_minor": 0,
  "metadata": {
    "colab": {
      "provenance": [],
      "include_colab_link": true
    },
    "kernelspec": {
      "name": "python3",
      "display_name": "Python 3"
    },
    "language_info": {
      "name": "python"
    },
    "widgets": {
      "application/vnd.jupyter.widget-state+json": {
        "396784e893f74a34a4a4e0c5657f5d16": {
          "model_module": "@jupyter-widgets/controls",
          "model_name": "HBoxModel",
          "model_module_version": "1.5.0",
          "state": {
            "_dom_classes": [],
            "_model_module": "@jupyter-widgets/controls",
            "_model_module_version": "1.5.0",
            "_model_name": "HBoxModel",
            "_view_count": null,
            "_view_module": "@jupyter-widgets/controls",
            "_view_module_version": "1.5.0",
            "_view_name": "HBoxView",
            "box_style": "",
            "children": [
              "IPY_MODEL_e37f77c182a640baaea0b64d1265e71a",
              "IPY_MODEL_8c17b8e3249b4975beeaac65e990df88",
              "IPY_MODEL_dfe56eba4a934a0a9778532b11e41ef3"
            ],
            "layout": "IPY_MODEL_97822273aea74795afcd0054f53465b5"
          }
        },
        "e37f77c182a640baaea0b64d1265e71a": {
          "model_module": "@jupyter-widgets/controls",
          "model_name": "HTMLModel",
          "model_module_version": "1.5.0",
          "state": {
            "_dom_classes": [],
            "_model_module": "@jupyter-widgets/controls",
            "_model_module_version": "1.5.0",
            "_model_name": "HTMLModel",
            "_view_count": null,
            "_view_module": "@jupyter-widgets/controls",
            "_view_module_version": "1.5.0",
            "_view_name": "HTMLView",
            "description": "",
            "description_tooltip": null,
            "layout": "IPY_MODEL_027e9b643834445da28fad10e0051e64",
            "placeholder": "​",
            "style": "IPY_MODEL_7f665ffbce0c43a89826bc4fb02f0f08",
            "value": "low_dim_v15.hdf5: 100%"
          }
        },
        "8c17b8e3249b4975beeaac65e990df88": {
          "model_module": "@jupyter-widgets/controls",
          "model_name": "FloatProgressModel",
          "model_module_version": "1.5.0",
          "state": {
            "_dom_classes": [],
            "_model_module": "@jupyter-widgets/controls",
            "_model_module_version": "1.5.0",
            "_model_name": "FloatProgressModel",
            "_view_count": null,
            "_view_module": "@jupyter-widgets/controls",
            "_view_module_version": "1.5.0",
            "_view_name": "ProgressView",
            "bar_style": "success",
            "description": "",
            "description_tooltip": null,
            "layout": "IPY_MODEL_0485c9b5c9864dcfb597e34dd7009945",
            "max": 21084088,
            "min": 0,
            "orientation": "horizontal",
            "style": "IPY_MODEL_aeb02a3851c94d4098df6d450863558c",
            "value": 21084088
          }
        },
        "dfe56eba4a934a0a9778532b11e41ef3": {
          "model_module": "@jupyter-widgets/controls",
          "model_name": "HTMLModel",
          "model_module_version": "1.5.0",
          "state": {
            "_dom_classes": [],
            "_model_module": "@jupyter-widgets/controls",
            "_model_module_version": "1.5.0",
            "_model_name": "HTMLModel",
            "_view_count": null,
            "_view_module": "@jupyter-widgets/controls",
            "_view_module_version": "1.5.0",
            "_view_name": "HTMLView",
            "description": "",
            "description_tooltip": null,
            "layout": "IPY_MODEL_4f9c2e4b7f904b148665e97a6d75ebd8",
            "placeholder": "​",
            "style": "IPY_MODEL_f6609b3afe4d4291a2d30add73ac788d",
            "value": " 21.1M/21.1M [00:00&lt;00:00, 44.9MB/s]"
          }
        },
        "97822273aea74795afcd0054f53465b5": {
          "model_module": "@jupyter-widgets/base",
          "model_name": "LayoutModel",
          "model_module_version": "1.2.0",
          "state": {
            "_model_module": "@jupyter-widgets/base",
            "_model_module_version": "1.2.0",
            "_model_name": "LayoutModel",
            "_view_count": null,
            "_view_module": "@jupyter-widgets/base",
            "_view_module_version": "1.2.0",
            "_view_name": "LayoutView",
            "align_content": null,
            "align_items": null,
            "align_self": null,
            "border": null,
            "bottom": null,
            "display": null,
            "flex": null,
            "flex_flow": null,
            "grid_area": null,
            "grid_auto_columns": null,
            "grid_auto_flow": null,
            "grid_auto_rows": null,
            "grid_column": null,
            "grid_gap": null,
            "grid_row": null,
            "grid_template_areas": null,
            "grid_template_columns": null,
            "grid_template_rows": null,
            "height": null,
            "justify_content": null,
            "justify_items": null,
            "left": null,
            "margin": null,
            "max_height": null,
            "max_width": null,
            "min_height": null,
            "min_width": null,
            "object_fit": null,
            "object_position": null,
            "order": null,
            "overflow": null,
            "overflow_x": null,
            "overflow_y": null,
            "padding": null,
            "right": null,
            "top": null,
            "visibility": null,
            "width": null
          }
        },
        "027e9b643834445da28fad10e0051e64": {
          "model_module": "@jupyter-widgets/base",
          "model_name": "LayoutModel",
          "model_module_version": "1.2.0",
          "state": {
            "_model_module": "@jupyter-widgets/base",
            "_model_module_version": "1.2.0",
            "_model_name": "LayoutModel",
            "_view_count": null,
            "_view_module": "@jupyter-widgets/base",
            "_view_module_version": "1.2.0",
            "_view_name": "LayoutView",
            "align_content": null,
            "align_items": null,
            "align_self": null,
            "border": null,
            "bottom": null,
            "display": null,
            "flex": null,
            "flex_flow": null,
            "grid_area": null,
            "grid_auto_columns": null,
            "grid_auto_flow": null,
            "grid_auto_rows": null,
            "grid_column": null,
            "grid_gap": null,
            "grid_row": null,
            "grid_template_areas": null,
            "grid_template_columns": null,
            "grid_template_rows": null,
            "height": null,
            "justify_content": null,
            "justify_items": null,
            "left": null,
            "margin": null,
            "max_height": null,
            "max_width": null,
            "min_height": null,
            "min_width": null,
            "object_fit": null,
            "object_position": null,
            "order": null,
            "overflow": null,
            "overflow_x": null,
            "overflow_y": null,
            "padding": null,
            "right": null,
            "top": null,
            "visibility": null,
            "width": null
          }
        },
        "7f665ffbce0c43a89826bc4fb02f0f08": {
          "model_module": "@jupyter-widgets/controls",
          "model_name": "DescriptionStyleModel",
          "model_module_version": "1.5.0",
          "state": {
            "_model_module": "@jupyter-widgets/controls",
            "_model_module_version": "1.5.0",
            "_model_name": "DescriptionStyleModel",
            "_view_count": null,
            "_view_module": "@jupyter-widgets/base",
            "_view_module_version": "1.2.0",
            "_view_name": "StyleView",
            "description_width": ""
          }
        },
        "0485c9b5c9864dcfb597e34dd7009945": {
          "model_module": "@jupyter-widgets/base",
          "model_name": "LayoutModel",
          "model_module_version": "1.2.0",
          "state": {
            "_model_module": "@jupyter-widgets/base",
            "_model_module_version": "1.2.0",
            "_model_name": "LayoutModel",
            "_view_count": null,
            "_view_module": "@jupyter-widgets/base",
            "_view_module_version": "1.2.0",
            "_view_name": "LayoutView",
            "align_content": null,
            "align_items": null,
            "align_self": null,
            "border": null,
            "bottom": null,
            "display": null,
            "flex": null,
            "flex_flow": null,
            "grid_area": null,
            "grid_auto_columns": null,
            "grid_auto_flow": null,
            "grid_auto_rows": null,
            "grid_column": null,
            "grid_gap": null,
            "grid_row": null,
            "grid_template_areas": null,
            "grid_template_columns": null,
            "grid_template_rows": null,
            "height": null,
            "justify_content": null,
            "justify_items": null,
            "left": null,
            "margin": null,
            "max_height": null,
            "max_width": null,
            "min_height": null,
            "min_width": null,
            "object_fit": null,
            "object_position": null,
            "order": null,
            "overflow": null,
            "overflow_x": null,
            "overflow_y": null,
            "padding": null,
            "right": null,
            "top": null,
            "visibility": null,
            "width": null
          }
        },
        "aeb02a3851c94d4098df6d450863558c": {
          "model_module": "@jupyter-widgets/controls",
          "model_name": "ProgressStyleModel",
          "model_module_version": "1.5.0",
          "state": {
            "_model_module": "@jupyter-widgets/controls",
            "_model_module_version": "1.5.0",
            "_model_name": "ProgressStyleModel",
            "_view_count": null,
            "_view_module": "@jupyter-widgets/base",
            "_view_module_version": "1.2.0",
            "_view_name": "StyleView",
            "bar_color": null,
            "description_width": ""
          }
        },
        "4f9c2e4b7f904b148665e97a6d75ebd8": {
          "model_module": "@jupyter-widgets/base",
          "model_name": "LayoutModel",
          "model_module_version": "1.2.0",
          "state": {
            "_model_module": "@jupyter-widgets/base",
            "_model_module_version": "1.2.0",
            "_model_name": "LayoutModel",
            "_view_count": null,
            "_view_module": "@jupyter-widgets/base",
            "_view_module_version": "1.2.0",
            "_view_name": "LayoutView",
            "align_content": null,
            "align_items": null,
            "align_self": null,
            "border": null,
            "bottom": null,
            "display": null,
            "flex": null,
            "flex_flow": null,
            "grid_area": null,
            "grid_auto_columns": null,
            "grid_auto_flow": null,
            "grid_auto_rows": null,
            "grid_column": null,
            "grid_gap": null,
            "grid_row": null,
            "grid_template_areas": null,
            "grid_template_columns": null,
            "grid_template_rows": null,
            "height": null,
            "justify_content": null,
            "justify_items": null,
            "left": null,
            "margin": null,
            "max_height": null,
            "max_width": null,
            "min_height": null,
            "min_width": null,
            "object_fit": null,
            "object_position": null,
            "order": null,
            "overflow": null,
            "overflow_x": null,
            "overflow_y": null,
            "padding": null,
            "right": null,
            "top": null,
            "visibility": null,
            "width": null
          }
        },
        "f6609b3afe4d4291a2d30add73ac788d": {
          "model_module": "@jupyter-widgets/controls",
          "model_name": "DescriptionStyleModel",
          "model_module_version": "1.5.0",
          "state": {
            "_model_module": "@jupyter-widgets/controls",
            "_model_module_version": "1.5.0",
            "_model_name": "DescriptionStyleModel",
            "_view_count": null,
            "_view_module": "@jupyter-widgets/base",
            "_view_module_version": "1.2.0",
            "_view_name": "StyleView",
            "description_width": ""
          }
        }
      }
    }
  },
  "cells": [
    {
      "cell_type": "markdown",
      "metadata": {
        "id": "view-in-github",
        "colab_type": "text"
      },
      "source": [
        "<a href=\"https://colab.research.google.com/github/pidipidi/samsung_planning/blob/main/notebooks/N02_robomimic_tutorial.ipynb\" target=\"_parent\"><img src=\"https://colab.research.google.com/assets/colab-badge.svg\" alt=\"Open In Colab\"/></a>"
      ]
    },
    {
      "cell_type": "markdown",
      "source": [
        "## Robomimic Get Started Tutorial\n",
        "\n",
        "This notebook implements a simple training loop without the extensive features offered in robomimic such as logging and hyperparameter sweeping. Please refer to the [repository](https://github.com/ARISE-Initiative/robomimic) and the [documentation](https://robomimic.github.io/docs/introduction/overview.html) for the full set of features and the rest of the pipeline.\n",
        "\n",
        "This notebook includes the following tutorials:\n",
        "\n",
        "1. Set up robomimic development environment\n",
        "2. Downloading task-specific dataset\n",
        "3. Load a naive behavior cloning policy\n",
        "4. Setup a simple training loop\n",
        "5. Run policy training\n",
        "6. Visualize the trained policy"
      ],
      "metadata": {
        "id": "DrbsbN3TtXmJ"
      }
    },
    {
      "cell_type": "markdown",
      "source": [
        "###0. Use GPU to accelerate training\n",
        "\n",
        "To use GPU runtime, click runtime on the top navigation part -> change runtime type -> select GPU as your accelerator"
      ],
      "metadata": {
        "id": "qxIvWhDJGY52"
      }
    },
    {
      "cell_type": "markdown",
      "source": [
        "### 1. Set up development environment\n",
        "\n",
        "The main dependencies of robomimic are\n",
        "- torch\n",
        "- numpy\n",
        "- h5py\n",
        "- robosuite\n",
        "- mujoco\n",
        "- tensorbordX\n",
        "- egl_probe\n",
        "- matplotlib\n",
        "\n",
        "\n",
        "The full list is included in the requirements.txt file in the repo."
      ],
      "metadata": {
        "id": "UbgiD1mkuGWZ"
      }
    },
    {
      "cell_type": "code",
      "source": [
        "%env MUJOCO_GL=osmesa\n",
        "\n",
        "WS_DIR = \"/content/\"\n",
        "%cd $WS_DIR\n",
        "\n",
        "# Clone the repo and install the basic requirements\n",
        "!git clone --branch v0.4 https://github.com/ARISE-Initiative/robomimic\n",
        "!pip install -e robomimic/ > /dev/null\n",
        "\n",
        "import sys\n",
        "import os\n",
        "sys.path.append('./robomimic/')"
      ],
      "metadata": {
        "id": "9Zw4cH9u4ZDv",
        "colab": {
          "base_uri": "https://localhost:8080/"
        },
        "outputId": "2180df14-55f7-441b-9d30-1ed7441ce7ca"
      },
      "execution_count": 1,
      "outputs": [
        {
          "output_type": "stream",
          "name": "stdout",
          "text": [
            "env: MUJOCO_GL=osmesa\n",
            "/content\n",
            "Cloning into 'robomimic'...\n",
            "remote: Enumerating objects: 3546, done.\u001b[K\n",
            "remote: Counting objects: 100% (1660/1660), done.\u001b[K\n",
            "remote: Compressing objects: 100% (380/380), done.\u001b[K\n",
            "remote: Total 3546 (delta 1450), reused 1280 (delta 1280), pack-reused 1886 (from 2)\u001b[K\n",
            "Receiving objects: 100% (3546/3546), 62.06 MiB | 14.03 MiB/s, done.\n",
            "Resolving deltas: 100% (2467/2467), done.\n",
            "Updating files: 100% (185/185), done.\n"
          ]
        }
      ]
    },
    {
      "cell_type": "markdown",
      "source": [
        "**WARNING**: To exactly reproduce the setup from our study paper, mujoco and robosuite should be installed from source following the [instruction](https://robomimic.github.io/docs/introduction/installation.html#install-simulators) However, if you just want to train on our dataset, you could proceed with the\n",
        "following default setup."
      ],
      "metadata": {
        "id": "oT6VyAEUdZqc"
      }
    },
    {
      "cell_type": "code",
      "source": [
        "# install all system dependencies for mujoco-py\n",
        "!sudo DEBIAN_FRONTEND=noninteractive apt install curl git libgl1-mesa-dev libgl1-mesa-glx libglew-dev \\\n",
        "         libosmesa6-dev software-properties-common net-tools unzip vim \\\n",
        "         virtualenv wget xpra xserver-xorg-dev libglfw3-dev patchelf > /dev/null\n",
        "\n",
        "#install mujoco-py\n",
        "!pip install mujoco > /dev/null\n",
        "\n",
        "#install robosuite\n",
        "!pip install robosuite > /dev/null"
      ],
      "metadata": {
        "id": "iNFm_2JOv2xh",
        "colab": {
          "base_uri": "https://localhost:8080/"
        },
        "outputId": "737b8b44-b920-4e39-d6d6-052b4ca99a7c"
      },
      "execution_count": 2,
      "outputs": [
        {
          "output_type": "stream",
          "name": "stdout",
          "text": [
            "\n",
            "WARNING: apt does not have a stable CLI interface. Use with caution in scripts.\n",
            "\n",
            "Extracting templates from packages: 100%\n"
          ]
        }
      ]
    },
    {
      "cell_type": "markdown",
      "source": [
        "## 2. Download demonstration dataset for a task\n",
        "\n",
        "For robomimic tasks, we organize the demonstration datasets by\n",
        "- task name (e.g., lift)\n",
        "- data source (ph - proficient human, mh - multi human, mg - machine-generated)\n",
        "- observation type (low_dim or image)\n",
        "\n",
        "For more details of the dataset structure, visit [robomimic documentation](https://robomimic.github.io/docs/datasets/robomimic_v0.1.html) and the [dataset tutorial](https://github.com/ARISE-Initiative/robomimic/blob/master/examples/notebooks/datasets.ipynb)\n",
        "\n",
        "\n",
        "Here we demonstrate downloading the proficient human (`ph`) dataset with low-dimensional (`low_dim`) observation for the `lift` task.\n",
        "\n"
      ],
      "metadata": {
        "id": "xi6QiLK410TV"
      }
    },
    {
      "cell_type": "code",
      "source": [
        "import os\n",
        "import json\n",
        "import h5py\n",
        "import numpy as np\n",
        "\n",
        "import robomimic\n",
        "import robomimic.utils.file_utils as FileUtils\n",
        "\n",
        "# the dataset registry can be found at robomimic/__init__.py\n",
        "from robomimic import DATASET_REGISTRY, HF_REPO_ID\n",
        "\n",
        "# set download folder and make it\n",
        "download_folder = WS_DIR + \"robomimic_data/\"\n",
        "os.makedirs(download_folder, exist_ok=True)\n",
        "\n",
        "# download the dataset\n",
        "task = \"lift\"\n",
        "dataset_type = \"ph\"\n",
        "hdf5_type = \"low_dim\"\n",
        "FileUtils.download_file_from_hf(\n",
        "    repo_id=HF_REPO_ID,\n",
        "    filename=DATASET_REGISTRY[task][dataset_type][hdf5_type][\"url\"],\n",
        "    download_dir=download_folder,\n",
        ")\n",
        "\n",
        "# enforce that the dataset exists\n",
        "dataset_path = os.path.join(download_folder, \"low_dim_v15.hdf5\")\n",
        "assert os.path.exists(dataset_path)"
      ],
      "metadata": {
        "id": "Ptx48ZOK2GpA",
        "colab": {
          "base_uri": "https://localhost:8080/",
          "height": 274,
          "referenced_widgets": [
            "396784e893f74a34a4a4e0c5657f5d16",
            "e37f77c182a640baaea0b64d1265e71a",
            "8c17b8e3249b4975beeaac65e990df88",
            "dfe56eba4a934a0a9778532b11e41ef3",
            "97822273aea74795afcd0054f53465b5",
            "027e9b643834445da28fad10e0051e64",
            "7f665ffbce0c43a89826bc4fb02f0f08",
            "0485c9b5c9864dcfb597e34dd7009945",
            "aeb02a3851c94d4098df6d450863558c",
            "4f9c2e4b7f904b148665e97a6d75ebd8",
            "f6609b3afe4d4291a2d30add73ac788d"
          ]
        },
        "outputId": "84c2a675-0df9-4835-8084-3ffe359649ed"
      },
      "execution_count": 3,
      "outputs": [
        {
          "output_type": "stream",
          "name": "stdout",
          "text": [
            "ROBOMIMIC WARNING(\n",
            "    No private macro file found!\n",
            "    It is recommended to use a private macro file\n",
            "    To setup, run: python /content/./robomimic/robomimic/scripts/setup_macros.py\n",
            ")\n"
          ]
        },
        {
          "output_type": "stream",
          "name": "stderr",
          "text": [
            "/usr/local/lib/python3.11/dist-packages/huggingface_hub/utils/_auth.py:94: UserWarning: \n",
            "The secret `HF_TOKEN` does not exist in your Colab secrets.\n",
            "To authenticate with the Hugging Face Hub, create a token in your settings tab (https://huggingface.co/settings/tokens), set it as secret in your Google Colab and restart your session.\n",
            "You will be able to reuse this secret in all of your notebooks.\n",
            "Please note that authentication is recommended but still optional to access public models or datasets.\n",
            "  warnings.warn(\n"
          ]
        },
        {
          "output_type": "display_data",
          "data": {
            "text/plain": [
              "low_dim_v15.hdf5:   0%|          | 0.00/21.1M [00:00<?, ?B/s]"
            ],
            "application/vnd.jupyter.widget-view+json": {
              "version_major": 2,
              "version_minor": 0,
              "model_id": "396784e893f74a34a4a4e0c5657f5d16"
            }
          },
          "metadata": {}
        }
      ]
    },
    {
      "cell_type": "code",
      "source": [
        "# Here we can print out the data metadata\n",
        "!python robomimic/robomimic/scripts/get_dataset_info.py --dataset $dataset_path"
      ],
      "metadata": {
        "id": "s3uh3-sc1XQ8",
        "colab": {
          "base_uri": "https://localhost:8080/"
        },
        "outputId": "017041c7-8fc0-422c-c1f5-5a4103429dd1"
      },
      "execution_count": 4,
      "outputs": [
        {
          "output_type": "stream",
          "name": "stdout",
          "text": [
            "\n",
            "total transitions: 9666\n",
            "total trajectories: 200\n",
            "traj length mean: 48.33\n",
            "traj length std: 6.116461395284041\n",
            "traj length min: 36\n",
            "traj length max: 64\n",
            "action min: -1.0\n",
            "action max: 1.0\n",
            "\n",
            "==== Filter Keys ====\n",
            "filter key 20_percent with 40 demos\n",
            "filter key 20_percent_train with 36 demos\n",
            "filter key 20_percent_valid with 4 demos\n",
            "filter key 50_percent with 100 demos\n",
            "filter key 50_percent_train with 90 demos\n",
            "filter key 50_percent_valid with 10 demos\n",
            "filter key train with 180 demos\n",
            "filter key valid with 20 demos\n",
            "\n",
            "==== Env Meta ====\n",
            "{\n",
            "    \"env_name\": \"Lift\",\n",
            "    \"env_version\": \"1.5.1\",\n",
            "    \"type\": 1,\n",
            "    \"env_kwargs\": {\n",
            "        \"has_renderer\": false,\n",
            "        \"has_offscreen_renderer\": false,\n",
            "        \"ignore_done\": true,\n",
            "        \"use_object_obs\": true,\n",
            "        \"use_camera_obs\": false,\n",
            "        \"control_freq\": 20,\n",
            "        \"controller_configs\": {\n",
            "            \"type\": \"BASIC\",\n",
            "            \"body_parts\": {\n",
            "                \"right\": {\n",
            "                    \"type\": \"OSC_POSE\",\n",
            "                    \"input_max\": 1,\n",
            "                    \"input_min\": -1,\n",
            "                    \"output_max\": [\n",
            "                        0.05,\n",
            "                        0.05,\n",
            "                        0.05,\n",
            "                        0.5,\n",
            "                        0.5,\n",
            "                        0.5\n",
            "                    ],\n",
            "                    \"output_min\": [\n",
            "                        -0.05,\n",
            "                        -0.05,\n",
            "                        -0.05,\n",
            "                        -0.5,\n",
            "                        -0.5,\n",
            "                        -0.5\n",
            "                    ],\n",
            "                    \"kp\": 150,\n",
            "                    \"damping\": 1,\n",
            "                    \"impedance_mode\": \"fixed\",\n",
            "                    \"kp_limits\": [\n",
            "                        0,\n",
            "                        300\n",
            "                    ],\n",
            "                    \"damping_limits\": [\n",
            "                        0,\n",
            "                        10\n",
            "                    ],\n",
            "                    \"position_limits\": null,\n",
            "                    \"orientation_limits\": null,\n",
            "                    \"uncouple_pos_ori\": true,\n",
            "                    \"control_delta\": true,\n",
            "                    \"interpolation\": null,\n",
            "                    \"ramp_ratio\": 0.2,\n",
            "                    \"input_ref_frame\": \"world\",\n",
            "                    \"gripper\": {\n",
            "                        \"type\": \"GRIP\"\n",
            "                    }\n",
            "                }\n",
            "            }\n",
            "        },\n",
            "        \"robots\": [\n",
            "            \"Panda\"\n",
            "        ],\n",
            "        \"camera_depths\": false,\n",
            "        \"camera_heights\": 84,\n",
            "        \"camera_widths\": 84,\n",
            "        \"lite_physics\": false,\n",
            "        \"reward_shaping\": false\n",
            "    }\n",
            "}\n",
            "\n",
            "==== Dataset Structure ====\n",
            "episode demo_0 with 59 transitions\n",
            "    key: actions with shape (59, 7)\n",
            "    key: dones with shape (59,)\n",
            "    key: next_obs\n",
            "        observation key object with shape (59, 10)\n",
            "        observation key robot0_eef_pos with shape (59, 3)\n",
            "        observation key robot0_eef_quat with shape (59, 4)\n",
            "        observation key robot0_eef_quat_site with shape (59, 4)\n",
            "        observation key robot0_gripper_qpos with shape (59, 2)\n",
            "        observation key robot0_gripper_qvel with shape (59, 2)\n",
            "        observation key robot0_joint_pos with shape (59, 7)\n",
            "        observation key robot0_joint_pos_cos with shape (59, 7)\n",
            "        observation key robot0_joint_pos_sin with shape (59, 7)\n",
            "        observation key robot0_joint_vel with shape (59, 7)\n",
            "    key: obs\n",
            "        observation key object with shape (59, 10)\n",
            "        observation key robot0_eef_pos with shape (59, 3)\n",
            "        observation key robot0_eef_quat with shape (59, 4)\n",
            "        observation key robot0_eef_quat_site with shape (59, 4)\n",
            "        observation key robot0_gripper_qpos with shape (59, 2)\n",
            "        observation key robot0_gripper_qvel with shape (59, 2)\n",
            "        observation key robot0_joint_pos with shape (59, 7)\n",
            "        observation key robot0_joint_pos_cos with shape (59, 7)\n",
            "        observation key robot0_joint_pos_sin with shape (59, 7)\n",
            "        observation key robot0_joint_vel with shape (59, 7)\n",
            "    key: rewards with shape (59,)\n",
            "    key: states with shape (59, 32)\n",
            "\n"
          ]
        }
      ]
    },
    {
      "cell_type": "markdown",
      "source": [
        "## 3. Build a simple behavior cloning model\n",
        "\n",
        "Follows the default hyperparameter in `robomimic/config/bc_config.py`."
      ],
      "metadata": {
        "id": "ovLnbr8M4RzP"
      }
    },
    {
      "cell_type": "code",
      "source": [
        "# import all utility functions\n",
        "\n",
        "import numpy as np\n",
        "\n",
        "import torch\n",
        "from torch.utils.data import DataLoader\n",
        "\n",
        "import robomimic\n",
        "import robomimic.utils.obs_utils as ObsUtils\n",
        "import robomimic.utils.torch_utils as TorchUtils\n",
        "import robomimic.utils.test_utils as TestUtils\n",
        "import robomimic.utils.file_utils as FileUtils\n",
        "import robomimic.utils.train_utils as TrainUtils\n",
        "from robomimic.utils.dataset import SequenceDataset\n",
        "\n",
        "from robomimic.config import config_factory\n",
        "from robomimic.algo import algo_factory"
      ],
      "metadata": {
        "id": "VWIpC-Ob5VQp"
      },
      "execution_count": 5,
      "outputs": []
    },
    {
      "cell_type": "code",
      "source": [
        "def get_example_model(dataset_path, device):\n",
        "    \"\"\"\n",
        "    Use a default config to construct a BC model.\n",
        "    \"\"\"\n",
        "\n",
        "    # default BC config\n",
        "    config = config_factory(algo_name=\"bc\")\n",
        "\n",
        "    # read config to set up metadata for observation modalities (e.g. detecting rgb observations)\n",
        "    ObsUtils.initialize_obs_utils_with_config(config)\n",
        "\n",
        "    # read dataset to get some metadata for constructing model\n",
        "    # all_obs_keys determines what observations we will feed to the policy\n",
        "    shape_meta = FileUtils.get_shape_metadata_from_dataset(\n",
        "        dataset_path=dataset_path,\n",
        "        all_obs_keys=sorted((\n",
        "            \"robot0_eef_pos\",  # robot end effector position\n",
        "            \"robot0_eef_quat\",   # robot end effector rotation (in quaternion)\n",
        "            \"robot0_gripper_qpos\",   # parallel gripper joint position\n",
        "            \"object\",  # object information\n",
        "        )),\n",
        "    )\n",
        "\n",
        "    # make BC model\n",
        "    model = algo_factory(\n",
        "        algo_name=config.algo_name,\n",
        "        config=config,\n",
        "        obs_key_shapes=shape_meta[\"all_shapes\"],\n",
        "        ac_dim=shape_meta[\"ac_dim\"],\n",
        "        device=device,\n",
        "    )\n",
        "    return model"
      ],
      "metadata": {
        "id": "4fOznEH44g2g"
      },
      "execution_count": 6,
      "outputs": []
    },
    {
      "cell_type": "code",
      "source": [
        "device = TorchUtils.get_torch_device(try_to_use_cuda=True)\n",
        "model = get_example_model(dataset_path, device=device)\n",
        "\n",
        "print(model)"
      ],
      "metadata": {
        "id": "R_3knZqd4pGa",
        "colab": {
          "base_uri": "https://localhost:8080/"
        },
        "outputId": "7f8f07cb-2ca1-4c26-99b4-6d5d73198ba8"
      },
      "execution_count": 7,
      "outputs": [
        {
          "output_type": "stream",
          "name": "stdout",
          "text": [
            "\n",
            "============= Initialized Observation Utils with Obs Spec =============\n",
            "\n",
            "using obs modality: low_dim with keys: ['object', 'robot0_eef_pos', 'robot0_gripper_qpos', 'robot0_eef_quat']\n",
            "using obs modality: rgb with keys: []\n",
            "using obs modality: depth with keys: []\n",
            "using obs modality: scan with keys: []\n",
            "ObservationKeyToModalityDict: action not found, adding action to mapping with assumed low_dim modality!\n",
            "BC (\n",
            "  ModuleDict(\n",
            "    (policy): ActorNetwork(\n",
            "        action_dim=7\n",
            "  \n",
            "        encoder=ObservationGroupEncoder(\n",
            "            group=obs\n",
            "            ObservationEncoder(\n",
            "                Key(\n",
            "                    name=object\n",
            "                    shape=[10]\n",
            "                    modality=low_dim\n",
            "                    randomizer=None\n",
            "                    net=None\n",
            "                    sharing_from=None\n",
            "                )\n",
            "                Key(\n",
            "                    name=robot0_eef_pos\n",
            "                    shape=[3]\n",
            "                    modality=low_dim\n",
            "                    randomizer=None\n",
            "                    net=None\n",
            "                    sharing_from=None\n",
            "                )\n",
            "                Key(\n",
            "                    name=robot0_eef_quat\n",
            "                    shape=[4]\n",
            "                    modality=low_dim\n",
            "                    randomizer=None\n",
            "                    net=None\n",
            "                    sharing_from=None\n",
            "                )\n",
            "                Key(\n",
            "                    name=robot0_gripper_qpos\n",
            "                    shape=[2]\n",
            "                    modality=low_dim\n",
            "                    randomizer=None\n",
            "                    net=None\n",
            "                    sharing_from=None\n",
            "                )\n",
            "                output_shape=[19]\n",
            "            )\n",
            "        )\n",
            "  \n",
            "        mlp=MLP(\n",
            "            input_dim=19\n",
            "            output_dim=1024\n",
            "            layer_dims=(1024,)\n",
            "            layer_func=Linear\n",
            "            dropout=None\n",
            "            act=ReLU\n",
            "            output_act=ReLU\n",
            "        )\n",
            "  \n",
            "        decoder=ObservationDecoder(\n",
            "            Key(\n",
            "                name=action\n",
            "                shape=(7,)\n",
            "                modality=low_dim\n",
            "                net=(Linear(in_features=1024, out_features=7, bias=True))\n",
            "            )\n",
            "        )\n",
            "    )\n",
            "  )\n",
            ")\n"
          ]
        }
      ]
    },
    {
      "cell_type": "markdown",
      "source": [
        "## 4. Build a simple training loop\n",
        "\n",
        "Here we build a simple data loader pipeline and a training loop. Note that this code snippet is only instructional and is a stripped-down version of robomimic's main training loop (`robomimic/scripts/train.py`)."
      ],
      "metadata": {
        "id": "xxa1d9Te3CUm"
      }
    },
    {
      "cell_type": "code",
      "source": [
        "\"\"\"\n",
        "WARNING: This code snippet is only for instructive purposes, and is missing several useful\n",
        "         components used during training such as logging and rollout evaluation.\n",
        "\"\"\"\n",
        "def get_data_loader(dataset_path):\n",
        "    \"\"\"\n",
        "    Get a data loader to sample batches of data.\n",
        "    Args:\n",
        "        dataset_path (str): path to the dataset hdf5\n",
        "    \"\"\"\n",
        "    dataset = SequenceDataset(\n",
        "        hdf5_path=dataset_path,\n",
        "        obs_keys=(                      # observations we want to appear in batches\n",
        "            \"robot0_eef_pos\",\n",
        "            \"robot0_eef_quat\",\n",
        "            \"robot0_gripper_qpos\",\n",
        "            \"object\",\n",
        "        ),\n",
        "        dataset_keys=(                  # can optionally specify more keys here if they should appear in batches\n",
        "            \"actions\",\n",
        "            \"rewards\",\n",
        "            \"dones\",\n",
        "        ),\n",
        "        load_next_obs=True,\n",
        "        frame_stack=1,\n",
        "        seq_length=10,                  # length-10 temporal sequences\n",
        "        pad_frame_stack=True,\n",
        "        pad_seq_length=True,            # pad last obs per trajectory to ensure all sequences are sampled\n",
        "        get_pad_mask=False,\n",
        "        goal_mode=None,\n",
        "        hdf5_cache_mode=\"all\",          # cache dataset in memory to avoid repeated file i/o\n",
        "        hdf5_use_swmr=True,\n",
        "        hdf5_normalize_obs=False,\n",
        "        filter_by_attribute=None,       # can optionally provide a filter key here\n",
        "    )\n",
        "    print(\"\\n============= Created Dataset =============\")\n",
        "    print(dataset)\n",
        "    print(\"\")\n",
        "\n",
        "    data_loader = DataLoader(\n",
        "        dataset=dataset,\n",
        "        sampler=None,       # no custom sampling logic (uniform sampling)\n",
        "        batch_size=100,     # batches of size 100\n",
        "        shuffle=True,\n",
        "        num_workers=0,\n",
        "        drop_last=True      # don't provide last batch in dataset pass if it's less than 100 in size\n",
        "    )\n",
        "    return data_loader\n",
        "\n",
        "\n",
        "def run_train_loop(model, data_loader, num_epochs=50, gradient_steps_per_epoch=100):\n",
        "    \"\"\"\n",
        "    Note: this is a stripped down version of @TrainUtils.run_epoch and the train loop\n",
        "    in the train function in train.py. Logging and evaluation rollouts were removed.\n",
        "    Args:\n",
        "        model (Algo instance): instance of Algo class to use for training\n",
        "        data_loader (torch.utils.data.DataLoader instance): torch DataLoader for\n",
        "            sampling batches\n",
        "    \"\"\"\n",
        "    # ensure model is in train mode\n",
        "    model.set_train()\n",
        "\n",
        "    for epoch in range(1, num_epochs + 1): # epoch numbers start at 1\n",
        "\n",
        "        # iterator for data_loader - it yields batches\n",
        "        data_loader_iter = iter(data_loader)\n",
        "\n",
        "        # record losses\n",
        "        losses = []\n",
        "\n",
        "        for _ in range(gradient_steps_per_epoch):\n",
        "\n",
        "            # load next batch from data loader\n",
        "            try:\n",
        "                batch = next(data_loader_iter)\n",
        "            except StopIteration:\n",
        "                # data loader ran out of batches - reset and yield first batch\n",
        "                data_loader_iter = iter(data_loader)\n",
        "                batch = next(data_loader_iter)\n",
        "\n",
        "            # process batch for training\n",
        "            input_batch = model.process_batch_for_training(batch)\n",
        "\n",
        "            # forward and backward pass\n",
        "            info = model.train_on_batch(batch=input_batch, epoch=epoch, validate=False)\n",
        "\n",
        "            # record loss\n",
        "            step_log = model.log_info(info)\n",
        "            losses.append(step_log[\"Loss\"])\n",
        "\n",
        "        # do anything model needs to after finishing epoch\n",
        "        model.on_epoch_end(epoch)\n",
        "\n",
        "        print(\"Train Epoch {}: Loss {}\".format(epoch, np.mean(losses)))\n"
      ],
      "metadata": {
        "id": "xkxeqO3B37YG"
      },
      "execution_count": 8,
      "outputs": []
    },
    {
      "cell_type": "markdown",
      "source": [
        "## 5. Run policy training\n",
        "\n",
        "Using the model and the training loop defined above. Note that this simple training loop does not save checkpoint. For model checkpointing, take a look at the full-feature [training loop](https://github.com/ARISE-Initiative/robomimic/blob/master/robomimic/scripts/train.py#L290) and the [documentation](https://robomimic.github.io/docs/tutorials/viewing_results.html)"
      ],
      "metadata": {
        "id": "HUeL98Qr6lfU"
      }
    },
    {
      "cell_type": "code",
      "source": [
        "# get dataset loader\n",
        "data_loader = get_data_loader(dataset_path=dataset_path)\n",
        "\n",
        "# run training loop\n",
        "run_train_loop(model=model, data_loader=data_loader, num_epochs=50, gradient_steps_per_epoch=100)"
      ],
      "metadata": {
        "id": "_aZq79x74J1B",
        "colab": {
          "base_uri": "https://localhost:8080/"
        },
        "outputId": "b3419788-3d7b-4649-f3e4-e18d7b25c9e3"
      },
      "execution_count": 9,
      "outputs": [
        {
          "output_type": "stream",
          "name": "stdout",
          "text": [
            "SequenceDataset: loading dataset into memory...\n",
            "100%|██████████| 200/200 [00:00<00:00, 208.16it/s]\n",
            "SequenceDataset: caching get_item calls...\n",
            "100%|██████████| 9666/9666 [00:03<00:00, 2583.00it/s]\n",
            "\n",
            "============= Created Dataset =============\n",
            "SequenceDataset (\n",
            "\tpath=/content/robomimic_data/low_dim_v15.hdf5\n",
            "\tobs_keys=('robot0_eef_pos', 'robot0_eef_quat', 'robot0_gripper_qpos', 'object')\n",
            "\tseq_length=10\n",
            "\tfilter_key=none\n",
            "\tframe_stack=1\n",
            "\tpad_seq_length=True\n",
            "\tpad_frame_stack=True\n",
            "\tgoal_mode=none\n",
            "\tcache_mode=all\n",
            "\tnum_demos=200\n",
            "\tnum_sequences=9666\n",
            ")\n",
            "\n",
            "Train Epoch 1: Loss 0.15334104910492896\n",
            "Train Epoch 2: Loss 0.10758635729551315\n",
            "Train Epoch 3: Loss 0.07848162800073624\n",
            "Train Epoch 4: Loss 0.06477158192545175\n",
            "Train Epoch 5: Loss 0.05516338497400284\n",
            "Train Epoch 6: Loss 0.0492780664563179\n",
            "Train Epoch 7: Loss 0.04519758947193622\n",
            "Train Epoch 8: Loss 0.04282913943752646\n",
            "Train Epoch 9: Loss 0.040431210026144984\n",
            "Train Epoch 10: Loss 0.038654641453176736\n",
            "Train Epoch 11: Loss 0.03748038278892636\n",
            "Train Epoch 12: Loss 0.03627362938597798\n",
            "Train Epoch 13: Loss 0.034835783615708354\n",
            "Train Epoch 14: Loss 0.0350636000931263\n",
            "Train Epoch 15: Loss 0.03378763638436794\n",
            "Train Epoch 16: Loss 0.03279381189495325\n",
            "Train Epoch 17: Loss 0.031996897887438536\n",
            "Train Epoch 18: Loss 0.031514398716390134\n",
            "Train Epoch 19: Loss 0.030764197148382664\n",
            "Train Epoch 20: Loss 0.030597876477986573\n",
            "Train Epoch 21: Loss 0.029902620017528535\n",
            "Train Epoch 22: Loss 0.029383934568613768\n",
            "Train Epoch 23: Loss 0.02940451307222247\n",
            "Train Epoch 24: Loss 0.028954100999981164\n",
            "Train Epoch 25: Loss 0.028388700094074012\n",
            "Train Epoch 26: Loss 0.028848481252789496\n",
            "Train Epoch 27: Loss 0.028309495421126485\n",
            "Train Epoch 28: Loss 0.028332174364477394\n",
            "Train Epoch 29: Loss 0.02720514204353094\n",
            "Train Epoch 30: Loss 0.027580144461244346\n",
            "Train Epoch 31: Loss 0.02713490406051278\n",
            "Train Epoch 32: Loss 0.026792331356555222\n",
            "Train Epoch 33: Loss 0.026547087356448174\n",
            "Train Epoch 34: Loss 0.02640193035826087\n",
            "Train Epoch 35: Loss 0.026539042415097355\n",
            "Train Epoch 36: Loss 0.02584253785200417\n",
            "Train Epoch 37: Loss 0.025889925668016078\n",
            "Train Epoch 38: Loss 0.026841810047626494\n",
            "Train Epoch 39: Loss 0.02626300842501223\n",
            "Train Epoch 40: Loss 0.02590652519837022\n",
            "Train Epoch 41: Loss 0.02530553949996829\n",
            "Train Epoch 42: Loss 0.02554027740843594\n",
            "Train Epoch 43: Loss 0.025406274320557712\n",
            "Train Epoch 44: Loss 0.024865399543195964\n",
            "Train Epoch 45: Loss 0.025173747465014457\n",
            "Train Epoch 46: Loss 0.025032472936436533\n",
            "Train Epoch 47: Loss 0.025448835054412484\n",
            "Train Epoch 48: Loss 0.02499702568165958\n",
            "Train Epoch 49: Loss 0.02473106668330729\n",
            "Train Epoch 50: Loss 0.024722080025821925\n"
          ]
        }
      ]
    },
    {
      "cell_type": "markdown",
      "source": [
        "## 6. Evaluate and visualize trained policy\n",
        "\n",
        "Here we execute the trained policy `model` in a simulated environment and play the rollout video."
      ],
      "metadata": {
        "id": "4GozrJNd7-s8"
      }
    },
    {
      "cell_type": "code",
      "source": [
        "# create simulation environment\n",
        "\n",
        "import robomimic.utils.env_utils as EnvUtils\n",
        "\n",
        "env_meta = FileUtils.get_env_metadata_from_dataset(dataset_path)\n",
        "\n",
        "env = EnvUtils.create_env_from_metadata(\n",
        "    env_meta=env_meta,\n",
        "    env_name=env_meta[\"env_name\"],\n",
        "    render=False,\n",
        "    render_offscreen=True,\n",
        "    use_image_obs=False,\n",
        ")"
      ],
      "metadata": {
        "id": "x9Oe1qveJxE3",
        "colab": {
          "base_uri": "https://localhost:8080/"
        },
        "outputId": "d8930c32-f502-4a6d-b4f6-dcc2656fc01e"
      },
      "execution_count": 13,
      "outputs": [
        {
          "output_type": "stream",
          "name": "stdout",
          "text": [
            "Created environment with name Lift\n",
            "Action size is 7\n"
          ]
        }
      ]
    },
    {
      "cell_type": "code",
      "source": [
        "from robomimic.algo import RolloutPolicy\n",
        "from robomimic.utils.train_utils import run_rollout\n",
        "import imageio\n",
        "\n",
        "# create a thin wrapper around the model to interact with the environment\n",
        "policy = RolloutPolicy(model)\n",
        "\n",
        "# create a video writer\n",
        "video_path = \"rollout.mp4\"\n",
        "video_writer = imageio.get_writer(video_path, fps=20)\n",
        "\n",
        "# run rollout\n",
        "rollout_log = run_rollout(\n",
        "    policy=policy,\n",
        "    env=env,\n",
        "    horizon=200,\n",
        "    video_writer=video_writer,\n",
        "    render=False\n",
        ")\n",
        "\n",
        "video_writer.close()\n",
        "# print rollout results\n",
        "print(rollout_log)"
      ],
      "metadata": {
        "id": "yboDeTXi7Qxz",
        "colab": {
          "base_uri": "https://localhost:8080/"
        },
        "outputId": "4cba96bb-e329-4ccb-9a20-4c65c70d6132"
      },
      "execution_count": 14,
      "outputs": [
        {
          "output_type": "stream",
          "name": "stdout",
          "text": [
            "{'Return': 96.0, 'Horizon': 200, 'Success_Rate': 1.0}\n"
          ]
        }
      ]
    },
    {
      "cell_type": "code",
      "source": [
        "# visualize rollout video\n",
        "\n",
        "from IPython.display import HTML\n",
        "from base64 import b64encode\n",
        "\n",
        "mp4 = open(video_path, \"rb\").read()\n",
        "data_url = \"data:video/mp4;base64,\" + b64encode(mp4).decode()\n",
        "HTML(f\"\"\"\n",
        "<video width=400 controls>\n",
        "      <source src=\"{data_url}\" type=\"video/mp4\">\n",
        "</video>\n",
        "\"\"\")"
      ],
      "metadata": {
        "id": "hm35ompoQ3V6",
        "colab": {
          "base_uri": "https://localhost:8080/",
          "height": 420
        },
        "outputId": "7a2ba2d0-9070-4a5e-d385-d8bcbb074245"
      },
      "execution_count": 15,
      "outputs": [
        {
          "output_type": "execute_result",
          "data": {
            "text/plain": [
              "<IPython.core.display.HTML object>"
            ],
            "text/html": [
              "\n",
              "<video width=400 controls>\n",
              "      <source src=\"data:video/mp4;base64,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\" type=\"video/mp4\">\n",
              "</video>\n"
            ]
          },
          "metadata": {},
          "execution_count": 15
        }
      ]
    },
    {
      "cell_type": "markdown",
      "source": [
        "## What's next?\n",
        "\n",
        "Now that you understand the basic components of robomimic, it's time to delve deeper into each component by reading up the [documentation site](https://robomimic.github.io/docs/introduction/overview.html). Robomimic offers a rich set of utilities for model building, training loop management, model checkpointing, visualization, hyper-parameter sweeping, and logging. You can get to more about each component by following the provided the examples and tutorials.\n",
        "\n"
      ],
      "metadata": {
        "id": "zAVQQTf6SL7T"
      }
    }
  ]
}