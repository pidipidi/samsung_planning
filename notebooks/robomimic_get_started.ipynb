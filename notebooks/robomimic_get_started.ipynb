{
  "nbformat": 4,
  "nbformat_minor": 0,
  "metadata": {
    "colab": {
      "provenance": [],
      "include_colab_link": true
    },
    "kernelspec": {
      "name": "python3",
      "display_name": "Python 3"
    },
    "language_info": {
      "name": "python"
    },
    "widgets": {
      "application/vnd.jupyter.widget-state+json": {
        "1e47c0f9b73240a5ae45a29eafe01a52": {
          "model_module": "@jupyter-widgets/controls",
          "model_name": "HBoxModel",
          "model_module_version": "1.5.0",
          "state": {
            "_dom_classes": [],
            "_model_module": "@jupyter-widgets/controls",
            "_model_module_version": "1.5.0",
            "_model_name": "HBoxModel",
            "_view_count": null,
            "_view_module": "@jupyter-widgets/controls",
            "_view_module_version": "1.5.0",
            "_view_name": "HBoxView",
            "box_style": "",
            "children": [
              "IPY_MODEL_f7fee34251fe45fc9424a08e777d85de",
              "IPY_MODEL_6f9a23f9dfab4f919b5355e17628c0f1",
              "IPY_MODEL_d12d58d5d06f4dcfaa655832c15b0847"
            ],
            "layout": "IPY_MODEL_a3877e7c750f4c59b3a571d845379c4f"
          }
        },
        "f7fee34251fe45fc9424a08e777d85de": {
          "model_module": "@jupyter-widgets/controls",
          "model_name": "HTMLModel",
          "model_module_version": "1.5.0",
          "state": {
            "_dom_classes": [],
            "_model_module": "@jupyter-widgets/controls",
            "_model_module_version": "1.5.0",
            "_model_name": "HTMLModel",
            "_view_count": null,
            "_view_module": "@jupyter-widgets/controls",
            "_view_module_version": "1.5.0",
            "_view_name": "HTMLView",
            "description": "",
            "description_tooltip": null,
            "layout": "IPY_MODEL_e486ef9846774fd99fe82f36ca31885e",
            "placeholder": "​",
            "style": "IPY_MODEL_dc92e61b86bc41b2ba68219489a4eafb",
            "value": "low_dim_v15.hdf5: 100%"
          }
        },
        "6f9a23f9dfab4f919b5355e17628c0f1": {
          "model_module": "@jupyter-widgets/controls",
          "model_name": "FloatProgressModel",
          "model_module_version": "1.5.0",
          "state": {
            "_dom_classes": [],
            "_model_module": "@jupyter-widgets/controls",
            "_model_module_version": "1.5.0",
            "_model_name": "FloatProgressModel",
            "_view_count": null,
            "_view_module": "@jupyter-widgets/controls",
            "_view_module_version": "1.5.0",
            "_view_name": "ProgressView",
            "bar_style": "success",
            "description": "",
            "description_tooltip": null,
            "layout": "IPY_MODEL_26929a169f0e43a0a9f8d5abc5762ea6",
            "max": 21084088,
            "min": 0,
            "orientation": "horizontal",
            "style": "IPY_MODEL_605184dd236d4549824e5e84a7331a60",
            "value": 21084088
          }
        },
        "d12d58d5d06f4dcfaa655832c15b0847": {
          "model_module": "@jupyter-widgets/controls",
          "model_name": "HTMLModel",
          "model_module_version": "1.5.0",
          "state": {
            "_dom_classes": [],
            "_model_module": "@jupyter-widgets/controls",
            "_model_module_version": "1.5.0",
            "_model_name": "HTMLModel",
            "_view_count": null,
            "_view_module": "@jupyter-widgets/controls",
            "_view_module_version": "1.5.0",
            "_view_name": "HTMLView",
            "description": "",
            "description_tooltip": null,
            "layout": "IPY_MODEL_17c7fe21d4de4650982be7c4141b6b10",
            "placeholder": "​",
            "style": "IPY_MODEL_93538cf6e15d4bb6807e6ba6306f1549",
            "value": " 21.1M/21.1M [00:00&lt;00:00, 155MB/s]"
          }
        },
        "a3877e7c750f4c59b3a571d845379c4f": {
          "model_module": "@jupyter-widgets/base",
          "model_name": "LayoutModel",
          "model_module_version": "1.2.0",
          "state": {
            "_model_module": "@jupyter-widgets/base",
            "_model_module_version": "1.2.0",
            "_model_name": "LayoutModel",
            "_view_count": null,
            "_view_module": "@jupyter-widgets/base",
            "_view_module_version": "1.2.0",
            "_view_name": "LayoutView",
            "align_content": null,
            "align_items": null,
            "align_self": null,
            "border": null,
            "bottom": null,
            "display": null,
            "flex": null,
            "flex_flow": null,
            "grid_area": null,
            "grid_auto_columns": null,
            "grid_auto_flow": null,
            "grid_auto_rows": null,
            "grid_column": null,
            "grid_gap": null,
            "grid_row": null,
            "grid_template_areas": null,
            "grid_template_columns": null,
            "grid_template_rows": null,
            "height": null,
            "justify_content": null,
            "justify_items": null,
            "left": null,
            "margin": null,
            "max_height": null,
            "max_width": null,
            "min_height": null,
            "min_width": null,
            "object_fit": null,
            "object_position": null,
            "order": null,
            "overflow": null,
            "overflow_x": null,
            "overflow_y": null,
            "padding": null,
            "right": null,
            "top": null,
            "visibility": null,
            "width": null
          }
        },
        "e486ef9846774fd99fe82f36ca31885e": {
          "model_module": "@jupyter-widgets/base",
          "model_name": "LayoutModel",
          "model_module_version": "1.2.0",
          "state": {
            "_model_module": "@jupyter-widgets/base",
            "_model_module_version": "1.2.0",
            "_model_name": "LayoutModel",
            "_view_count": null,
            "_view_module": "@jupyter-widgets/base",
            "_view_module_version": "1.2.0",
            "_view_name": "LayoutView",
            "align_content": null,
            "align_items": null,
            "align_self": null,
            "border": null,
            "bottom": null,
            "display": null,
            "flex": null,
            "flex_flow": null,
            "grid_area": null,
            "grid_auto_columns": null,
            "grid_auto_flow": null,
            "grid_auto_rows": null,
            "grid_column": null,
            "grid_gap": null,
            "grid_row": null,
            "grid_template_areas": null,
            "grid_template_columns": null,
            "grid_template_rows": null,
            "height": null,
            "justify_content": null,
            "justify_items": null,
            "left": null,
            "margin": null,
            "max_height": null,
            "max_width": null,
            "min_height": null,
            "min_width": null,
            "object_fit": null,
            "object_position": null,
            "order": null,
            "overflow": null,
            "overflow_x": null,
            "overflow_y": null,
            "padding": null,
            "right": null,
            "top": null,
            "visibility": null,
            "width": null
          }
        },
        "dc92e61b86bc41b2ba68219489a4eafb": {
          "model_module": "@jupyter-widgets/controls",
          "model_name": "DescriptionStyleModel",
          "model_module_version": "1.5.0",
          "state": {
            "_model_module": "@jupyter-widgets/controls",
            "_model_module_version": "1.5.0",
            "_model_name": "DescriptionStyleModel",
            "_view_count": null,
            "_view_module": "@jupyter-widgets/base",
            "_view_module_version": "1.2.0",
            "_view_name": "StyleView",
            "description_width": ""
          }
        },
        "26929a169f0e43a0a9f8d5abc5762ea6": {
          "model_module": "@jupyter-widgets/base",
          "model_name": "LayoutModel",
          "model_module_version": "1.2.0",
          "state": {
            "_model_module": "@jupyter-widgets/base",
            "_model_module_version": "1.2.0",
            "_model_name": "LayoutModel",
            "_view_count": null,
            "_view_module": "@jupyter-widgets/base",
            "_view_module_version": "1.2.0",
            "_view_name": "LayoutView",
            "align_content": null,
            "align_items": null,
            "align_self": null,
            "border": null,
            "bottom": null,
            "display": null,
            "flex": null,
            "flex_flow": null,
            "grid_area": null,
            "grid_auto_columns": null,
            "grid_auto_flow": null,
            "grid_auto_rows": null,
            "grid_column": null,
            "grid_gap": null,
            "grid_row": null,
            "grid_template_areas": null,
            "grid_template_columns": null,
            "grid_template_rows": null,
            "height": null,
            "justify_content": null,
            "justify_items": null,
            "left": null,
            "margin": null,
            "max_height": null,
            "max_width": null,
            "min_height": null,
            "min_width": null,
            "object_fit": null,
            "object_position": null,
            "order": null,
            "overflow": null,
            "overflow_x": null,
            "overflow_y": null,
            "padding": null,
            "right": null,
            "top": null,
            "visibility": null,
            "width": null
          }
        },
        "605184dd236d4549824e5e84a7331a60": {
          "model_module": "@jupyter-widgets/controls",
          "model_name": "ProgressStyleModel",
          "model_module_version": "1.5.0",
          "state": {
            "_model_module": "@jupyter-widgets/controls",
            "_model_module_version": "1.5.0",
            "_model_name": "ProgressStyleModel",
            "_view_count": null,
            "_view_module": "@jupyter-widgets/base",
            "_view_module_version": "1.2.0",
            "_view_name": "StyleView",
            "bar_color": null,
            "description_width": ""
          }
        },
        "17c7fe21d4de4650982be7c4141b6b10": {
          "model_module": "@jupyter-widgets/base",
          "model_name": "LayoutModel",
          "model_module_version": "1.2.0",
          "state": {
            "_model_module": "@jupyter-widgets/base",
            "_model_module_version": "1.2.0",
            "_model_name": "LayoutModel",
            "_view_count": null,
            "_view_module": "@jupyter-widgets/base",
            "_view_module_version": "1.2.0",
            "_view_name": "LayoutView",
            "align_content": null,
            "align_items": null,
            "align_self": null,
            "border": null,
            "bottom": null,
            "display": null,
            "flex": null,
            "flex_flow": null,
            "grid_area": null,
            "grid_auto_columns": null,
            "grid_auto_flow": null,
            "grid_auto_rows": null,
            "grid_column": null,
            "grid_gap": null,
            "grid_row": null,
            "grid_template_areas": null,
            "grid_template_columns": null,
            "grid_template_rows": null,
            "height": null,
            "justify_content": null,
            "justify_items": null,
            "left": null,
            "margin": null,
            "max_height": null,
            "max_width": null,
            "min_height": null,
            "min_width": null,
            "object_fit": null,
            "object_position": null,
            "order": null,
            "overflow": null,
            "overflow_x": null,
            "overflow_y": null,
            "padding": null,
            "right": null,
            "top": null,
            "visibility": null,
            "width": null
          }
        },
        "93538cf6e15d4bb6807e6ba6306f1549": {
          "model_module": "@jupyter-widgets/controls",
          "model_name": "DescriptionStyleModel",
          "model_module_version": "1.5.0",
          "state": {
            "_model_module": "@jupyter-widgets/controls",
            "_model_module_version": "1.5.0",
            "_model_name": "DescriptionStyleModel",
            "_view_count": null,
            "_view_module": "@jupyter-widgets/base",
            "_view_module_version": "1.2.0",
            "_view_name": "StyleView",
            "description_width": ""
          }
        }
      }
    }
  },
  "cells": [
    {
      "cell_type": "markdown",
      "metadata": {
        "id": "view-in-github",
        "colab_type": "text"
      },
      "source": [
        "<a href=\"https://colab.research.google.com/github/pidipidi/samsung_planning/blob/main/robomimic_get_started.ipynb\" target=\"_parent\"><img src=\"https://colab.research.google.com/assets/colab-badge.svg\" alt=\"Open In Colab\"/></a>"
      ]
    },
    {
      "cell_type": "markdown",
      "source": [
        "## Robomimic Get Started Tutorial\n",
        "\n",
        "This notebook implements a simple training loop without the extensive features offered in robomimic such as logging and hyperparameter sweeping. Please refer to the [repository](https://github.com/ARISE-Initiative/robomimic) and the [documentation](https://robomimic.github.io/docs/introduction/overview.html) for the full set of features and the rest of the pipeline.\n",
        "\n",
        "This notebook includes the following tutorials:\n",
        "\n",
        "1. Set up robomimic development environment\n",
        "2. Downloading task-specific dataset\n",
        "3. Create a naive behavior cloning policy\n",
        "4. Setup a simple training loop\n",
        "5. Run policy training\n",
        "6. Visualize the trained policy"
      ],
      "metadata": {
        "id": "DrbsbN3TtXmJ"
      }
    },
    {
      "cell_type": "markdown",
      "source": [
        "###0. Use GPU to accelerate training\n",
        "\n",
        "To use GPU runtime, click runtime on the top navigation part -> change runtime type -> select GPU as your accelerator"
      ],
      "metadata": {
        "id": "qxIvWhDJGY52"
      }
    },
    {
      "cell_type": "markdown",
      "source": [
        "### 1. Set up development environment\n",
        "\n",
        "The main dependencies of robomimic are\n",
        "- torch\n",
        "- numpy\n",
        "- h5py\n",
        "- robosuite\n",
        "- mujoco\n",
        "- tensorbordX\n",
        "- egl_probe\n",
        "- matplotlib\n",
        "\n",
        "\n",
        "The full list is included in the requirements.txt file in the repo."
      ],
      "metadata": {
        "id": "UbgiD1mkuGWZ"
      }
    },
    {
      "cell_type": "code",
      "source": [
        "%env MUJOCO_GL=osmesa\n",
        "\n",
        "WS_DIR = \"/content/\"\n",
        "%cd $WS_DIR\n",
        "\n",
        "# Clone the repo and install the basic requirements\n",
        "!git clone --branch v0.4 https://github.com/ARISE-Initiative/robomimic\n",
        "!pip install -e robomimic/ > /dev/null\n",
        "\n",
        "import sys\n",
        "import os\n",
        "sys.path.append('./robomimic/')"
      ],
      "metadata": {
        "id": "9Zw4cH9u4ZDv",
        "colab": {
          "base_uri": "https://localhost:8080/"
        },
        "outputId": "ef275511-cd1f-468d-a1b0-f3915610fbe9"
      },
      "execution_count": null,
      "outputs": [
        {
          "output_type": "stream",
          "name": "stdout",
          "text": [
            "env: MUJOCO_GL=osmesa\n",
            "/content\n",
            "Cloning into 'robomimic'...\n",
            "remote: Enumerating objects: 3540, done.\u001b[K\n",
            "remote: Counting objects: 100% (1638/1638), done.\u001b[K\n",
            "remote: Compressing objects: 100% (361/361), done.\u001b[K\n",
            "remote: Total 3540 (delta 1438), reused 1277 (delta 1277), pack-reused 1902 (from 4)\u001b[K\n",
            "Receiving objects: 100% (3540/3540), 62.08 MiB | 14.29 MiB/s, done.\n",
            "Resolving deltas: 100% (2456/2456), done.\n"
          ]
        }
      ]
    },
    {
      "cell_type": "markdown",
      "source": [
        "**WARNING**: To exactly reproduce the setup from our study paper, mujoco and robosuite should be installed from source following the [instruction](https://robomimic.github.io/docs/introduction/installation.html#install-simulators) However, if you just want to train on our dataset, you could proceed with the\n",
        "following default setup."
      ],
      "metadata": {
        "id": "oT6VyAEUdZqc"
      }
    },
    {
      "cell_type": "code",
      "source": [
        "# install all system dependencies for mujoco-py\n",
        "!sudo DEBIAN_FRONTEND=noninteractive apt install curl git libgl1-mesa-dev libgl1-mesa-glx libglew-dev \\\n",
        "         libosmesa6-dev software-properties-common net-tools unzip vim \\\n",
        "         virtualenv wget xpra xserver-xorg-dev libglfw3-dev patchelf > /dev/null\n",
        "\n",
        "#install mujoco-py\n",
        "!pip install mujoco > /dev/null\n",
        "\n",
        "#install robosuite\n",
        "!pip install robosuite > /dev/null"
      ],
      "metadata": {
        "id": "iNFm_2JOv2xh",
        "colab": {
          "base_uri": "https://localhost:8080/"
        },
        "outputId": "7f1395ac-25dd-4fac-fe44-d5f8b75d5980"
      },
      "execution_count": null,
      "outputs": [
        {
          "output_type": "stream",
          "name": "stdout",
          "text": [
            "\n",
            "WARNING: apt does not have a stable CLI interface. Use with caution in scripts.\n",
            "\n",
            "Extracting templates from packages: 100%\n"
          ]
        }
      ]
    },
    {
      "cell_type": "markdown",
      "source": [
        "## 2. Download demonstration dataset for a task\n",
        "\n",
        "For robomimic tasks, we organize the demonstration datasets by\n",
        "- task name (e.g., lift)\n",
        "- data source (ph - proficient human, mh - multi human, mg - machine-generated)\n",
        "- observation type (low_dim or image)\n",
        "\n",
        "For more details of the dataset structure, visit [robomimic documentation](https://robomimic.github.io/docs/datasets/robomimic_v0.1.html) and the [dataset tutorial](https://github.com/ARISE-Initiative/robomimic/blob/master/examples/notebooks/datasets.ipynb)\n",
        "\n",
        "\n",
        "Here we demonstrate downloading the proficient human (`ph`) dataset with low-dimensional (`low_dim`) observation for the `lift` task.\n",
        "\n"
      ],
      "metadata": {
        "id": "xi6QiLK410TV"
      }
    },
    {
      "cell_type": "code",
      "source": [
        "import os\n",
        "import json\n",
        "import h5py\n",
        "import numpy as np\n",
        "\n",
        "import robomimic\n",
        "import robomimic.utils.file_utils as FileUtils\n",
        "\n",
        "# the dataset registry can be found at robomimic/__init__.py\n",
        "from robomimic import DATASET_REGISTRY, HF_REPO_ID\n",
        "\n",
        "# set download folder and make it\n",
        "download_folder = WS_DIR + \"robomimic_data/\"\n",
        "os.makedirs(download_folder, exist_ok=True)\n",
        "\n",
        "# download the dataset\n",
        "task = \"lift\"\n",
        "dataset_type = \"ph\"\n",
        "hdf5_type = \"low_dim\"\n",
        "FileUtils.download_file_from_hf(\n",
        "    repo_id=HF_REPO_ID,\n",
        "    filename=DATASET_REGISTRY[task][dataset_type][hdf5_type][\"url\"],\n",
        "    download_dir=download_folder,\n",
        ")\n",
        "\n",
        "# enforce that the dataset exists\n",
        "dataset_path = os.path.join(download_folder, \"low_dim_v15.hdf5\")\n",
        "assert os.path.exists(dataset_path)"
      ],
      "metadata": {
        "id": "Ptx48ZOK2GpA",
        "colab": {
          "base_uri": "https://localhost:8080/",
          "height": 240,
          "referenced_widgets": [
            "1e47c0f9b73240a5ae45a29eafe01a52",
            "f7fee34251fe45fc9424a08e777d85de",
            "6f9a23f9dfab4f919b5355e17628c0f1",
            "d12d58d5d06f4dcfaa655832c15b0847",
            "a3877e7c750f4c59b3a571d845379c4f",
            "e486ef9846774fd99fe82f36ca31885e",
            "dc92e61b86bc41b2ba68219489a4eafb",
            "26929a169f0e43a0a9f8d5abc5762ea6",
            "605184dd236d4549824e5e84a7331a60",
            "17c7fe21d4de4650982be7c4141b6b10",
            "93538cf6e15d4bb6807e6ba6306f1549"
          ]
        },
        "outputId": "80479839-f129-4423-f52a-ac83e51b527b"
      },
      "execution_count": null,
      "outputs": [
        {
          "output_type": "stream",
          "name": "stdout",
          "text": [
            "ROBOMIMIC WARNING(\n",
            "    No private macro file found!\n",
            "    It is recommended to use a private macro file\n",
            "    To setup, run: python /content/./robomimic/robomimic/scripts/setup_macros.py\n",
            ")\n"
          ]
        },
        {
          "output_type": "stream",
          "name": "stderr",
          "text": [
            "/usr/local/lib/python3.11/dist-packages/huggingface_hub/utils/_auth.py:94: UserWarning: \n",
            "The secret `HF_TOKEN` does not exist in your Colab secrets.\n",
            "To authenticate with the Hugging Face Hub, create a token in your settings tab (https://huggingface.co/settings/tokens), set it as secret in your Google Colab and restart your session.\n",
            "You will be able to reuse this secret in all of your notebooks.\n",
            "Please note that authentication is recommended but still optional to access public models or datasets.\n",
            "  warnings.warn(\n"
          ]
        },
        {
          "output_type": "display_data",
          "data": {
            "text/plain": [
              "low_dim_v15.hdf5:   0%|          | 0.00/21.1M [00:00<?, ?B/s]"
            ],
            "application/vnd.jupyter.widget-view+json": {
              "version_major": 2,
              "version_minor": 0,
              "model_id": "1e47c0f9b73240a5ae45a29eafe01a52"
            }
          },
          "metadata": {}
        }
      ]
    },
    {
      "cell_type": "code",
      "source": [
        "# Here we can print out the data metadata\n",
        "!python robomimic/robomimic/scripts/get_dataset_info.py --dataset $dataset_path"
      ],
      "metadata": {
        "id": "s3uh3-sc1XQ8",
        "colab": {
          "base_uri": "https://localhost:8080/"
        },
        "outputId": "55732304-50f7-4d41-cac8-1122bb9df356"
      },
      "execution_count": null,
      "outputs": [
        {
          "output_type": "stream",
          "name": "stdout",
          "text": [
            "\n",
            "total transitions: 9666\n",
            "total trajectories: 200\n",
            "traj length mean: 48.33\n",
            "traj length std: 6.116461395284041\n",
            "traj length min: 36\n",
            "traj length max: 64\n",
            "action min: -1.0\n",
            "action max: 1.0\n",
            "\n",
            "==== Filter Keys ====\n",
            "filter key 20_percent with 40 demos\n",
            "filter key 20_percent_train with 36 demos\n",
            "filter key 20_percent_valid with 4 demos\n",
            "filter key 50_percent with 100 demos\n",
            "filter key 50_percent_train with 90 demos\n",
            "filter key 50_percent_valid with 10 demos\n",
            "filter key train with 180 demos\n",
            "filter key valid with 20 demos\n",
            "\n",
            "==== Env Meta ====\n",
            "{\n",
            "    \"env_name\": \"Lift\",\n",
            "    \"env_version\": \"1.5.1\",\n",
            "    \"type\": 1,\n",
            "    \"env_kwargs\": {\n",
            "        \"has_renderer\": false,\n",
            "        \"has_offscreen_renderer\": false,\n",
            "        \"ignore_done\": true,\n",
            "        \"use_object_obs\": true,\n",
            "        \"use_camera_obs\": false,\n",
            "        \"control_freq\": 20,\n",
            "        \"controller_configs\": {\n",
            "            \"type\": \"BASIC\",\n",
            "            \"body_parts\": {\n",
            "                \"right\": {\n",
            "                    \"type\": \"OSC_POSE\",\n",
            "                    \"input_max\": 1,\n",
            "                    \"input_min\": -1,\n",
            "                    \"output_max\": [\n",
            "                        0.05,\n",
            "                        0.05,\n",
            "                        0.05,\n",
            "                        0.5,\n",
            "                        0.5,\n",
            "                        0.5\n",
            "                    ],\n",
            "                    \"output_min\": [\n",
            "                        -0.05,\n",
            "                        -0.05,\n",
            "                        -0.05,\n",
            "                        -0.5,\n",
            "                        -0.5,\n",
            "                        -0.5\n",
            "                    ],\n",
            "                    \"kp\": 150,\n",
            "                    \"damping\": 1,\n",
            "                    \"impedance_mode\": \"fixed\",\n",
            "                    \"kp_limits\": [\n",
            "                        0,\n",
            "                        300\n",
            "                    ],\n",
            "                    \"damping_limits\": [\n",
            "                        0,\n",
            "                        10\n",
            "                    ],\n",
            "                    \"position_limits\": null,\n",
            "                    \"orientation_limits\": null,\n",
            "                    \"uncouple_pos_ori\": true,\n",
            "                    \"control_delta\": true,\n",
            "                    \"interpolation\": null,\n",
            "                    \"ramp_ratio\": 0.2,\n",
            "                    \"input_ref_frame\": \"world\",\n",
            "                    \"gripper\": {\n",
            "                        \"type\": \"GRIP\"\n",
            "                    }\n",
            "                }\n",
            "            }\n",
            "        },\n",
            "        \"robots\": [\n",
            "            \"Panda\"\n",
            "        ],\n",
            "        \"camera_depths\": false,\n",
            "        \"camera_heights\": 84,\n",
            "        \"camera_widths\": 84,\n",
            "        \"lite_physics\": false,\n",
            "        \"reward_shaping\": false\n",
            "    }\n",
            "}\n",
            "\n",
            "==== Dataset Structure ====\n",
            "episode demo_0 with 59 transitions\n",
            "    key: actions with shape (59, 7)\n",
            "    key: dones with shape (59,)\n",
            "    key: next_obs\n",
            "        observation key object with shape (59, 10)\n",
            "        observation key robot0_eef_pos with shape (59, 3)\n",
            "        observation key robot0_eef_quat with shape (59, 4)\n",
            "        observation key robot0_eef_quat_site with shape (59, 4)\n",
            "        observation key robot0_gripper_qpos with shape (59, 2)\n",
            "        observation key robot0_gripper_qvel with shape (59, 2)\n",
            "        observation key robot0_joint_pos with shape (59, 7)\n",
            "        observation key robot0_joint_pos_cos with shape (59, 7)\n",
            "        observation key robot0_joint_pos_sin with shape (59, 7)\n",
            "        observation key robot0_joint_vel with shape (59, 7)\n",
            "    key: obs\n",
            "        observation key object with shape (59, 10)\n",
            "        observation key robot0_eef_pos with shape (59, 3)\n",
            "        observation key robot0_eef_quat with shape (59, 4)\n",
            "        observation key robot0_eef_quat_site with shape (59, 4)\n",
            "        observation key robot0_gripper_qpos with shape (59, 2)\n",
            "        observation key robot0_gripper_qvel with shape (59, 2)\n",
            "        observation key robot0_joint_pos with shape (59, 7)\n",
            "        observation key robot0_joint_pos_cos with shape (59, 7)\n",
            "        observation key robot0_joint_pos_sin with shape (59, 7)\n",
            "        observation key robot0_joint_vel with shape (59, 7)\n",
            "    key: rewards with shape (59,)\n",
            "    key: states with shape (59, 32)\n",
            "\n"
          ]
        }
      ]
    },
    {
      "cell_type": "markdown",
      "source": [
        "## 3. Build a simple behavior cloning model\n",
        "\n",
        "Follows the default hyperparameter in `robomimic/config/bc_config.py`."
      ],
      "metadata": {
        "id": "ovLnbr8M4RzP"
      }
    },
    {
      "cell_type": "code",
      "source": [
        "# import all utility functions\n",
        "\n",
        "import numpy as np\n",
        "\n",
        "import torch\n",
        "from torch.utils.data import DataLoader\n",
        "\n",
        "import robomimic\n",
        "import robomimic.utils.obs_utils as ObsUtils\n",
        "import robomimic.utils.torch_utils as TorchUtils\n",
        "import robomimic.utils.test_utils as TestUtils\n",
        "import robomimic.utils.file_utils as FileUtils\n",
        "import robomimic.utils.train_utils as TrainUtils\n",
        "from robomimic.utils.dataset import SequenceDataset\n",
        "\n",
        "from robomimic.config import config_factory\n",
        "from robomimic.algo import algo_factory"
      ],
      "metadata": {
        "id": "VWIpC-Ob5VQp"
      },
      "execution_count": null,
      "outputs": []
    },
    {
      "cell_type": "code",
      "source": [
        "def get_example_model(dataset_path, device):\n",
        "    \"\"\"\n",
        "    Use a default config to construct a BC model.\n",
        "    \"\"\"\n",
        "\n",
        "    # default BC config\n",
        "    config = config_factory(algo_name=\"bc\")\n",
        "\n",
        "    # read config to set up metadata for observation modalities (e.g. detecting rgb observations)\n",
        "    ObsUtils.initialize_obs_utils_with_config(config)\n",
        "\n",
        "    # read dataset to get some metadata for constructing model\n",
        "    # all_obs_keys determines what observations we will feed to the policy\n",
        "    shape_meta = FileUtils.get_shape_metadata_from_dataset(\n",
        "        dataset_path=dataset_path,\n",
        "        all_obs_keys=sorted((\n",
        "            \"robot0_eef_pos\",  # robot end effector position\n",
        "            \"robot0_eef_quat\",   # robot end effector rotation (in quaternion)\n",
        "            \"robot0_gripper_qpos\",   # parallel gripper joint position\n",
        "            \"object\",  # object information\n",
        "        )),\n",
        "    )\n",
        "\n",
        "    # make BC model\n",
        "    model = algo_factory(\n",
        "        algo_name=config.algo_name,\n",
        "        config=config,\n",
        "        obs_key_shapes=shape_meta[\"all_shapes\"],\n",
        "        ac_dim=shape_meta[\"ac_dim\"],\n",
        "        device=device,\n",
        "    )\n",
        "    return model"
      ],
      "metadata": {
        "id": "4fOznEH44g2g"
      },
      "execution_count": null,
      "outputs": []
    },
    {
      "cell_type": "code",
      "source": [
        "device = TorchUtils.get_torch_device(try_to_use_cuda=True)\n",
        "model = get_example_model(dataset_path, device=device)\n",
        "\n",
        "print(model)"
      ],
      "metadata": {
        "id": "R_3knZqd4pGa",
        "colab": {
          "base_uri": "https://localhost:8080/"
        },
        "outputId": "cf821885-39e5-4c2b-bbbd-bd8b01886419"
      },
      "execution_count": null,
      "outputs": [
        {
          "output_type": "stream",
          "name": "stdout",
          "text": [
            "\n",
            "============= Initialized Observation Utils with Obs Spec =============\n",
            "\n",
            "using obs modality: low_dim with keys: ['robot0_eef_pos', 'robot0_eef_quat', 'object', 'robot0_gripper_qpos']\n",
            "using obs modality: rgb with keys: []\n",
            "using obs modality: depth with keys: []\n",
            "using obs modality: scan with keys: []\n",
            "ObservationKeyToModalityDict: action not found, adding action to mapping with assumed low_dim modality!\n",
            "BC (\n",
            "  ModuleDict(\n",
            "    (policy): ActorNetwork(\n",
            "        action_dim=7\n",
            "  \n",
            "        encoder=ObservationGroupEncoder(\n",
            "            group=obs\n",
            "            ObservationEncoder(\n",
            "                Key(\n",
            "                    name=object\n",
            "                    shape=[10]\n",
            "                    modality=low_dim\n",
            "                    randomizer=None\n",
            "                    net=None\n",
            "                    sharing_from=None\n",
            "                )\n",
            "                Key(\n",
            "                    name=robot0_eef_pos\n",
            "                    shape=[3]\n",
            "                    modality=low_dim\n",
            "                    randomizer=None\n",
            "                    net=None\n",
            "                    sharing_from=None\n",
            "                )\n",
            "                Key(\n",
            "                    name=robot0_eef_quat\n",
            "                    shape=[4]\n",
            "                    modality=low_dim\n",
            "                    randomizer=None\n",
            "                    net=None\n",
            "                    sharing_from=None\n",
            "                )\n",
            "                Key(\n",
            "                    name=robot0_gripper_qpos\n",
            "                    shape=[2]\n",
            "                    modality=low_dim\n",
            "                    randomizer=None\n",
            "                    net=None\n",
            "                    sharing_from=None\n",
            "                )\n",
            "                output_shape=[19]\n",
            "            )\n",
            "        )\n",
            "  \n",
            "        mlp=MLP(\n",
            "            input_dim=19\n",
            "            output_dim=1024\n",
            "            layer_dims=(1024,)\n",
            "            layer_func=Linear\n",
            "            dropout=None\n",
            "            act=ReLU\n",
            "            output_act=ReLU\n",
            "        )\n",
            "  \n",
            "        decoder=ObservationDecoder(\n",
            "            Key(\n",
            "                name=action\n",
            "                shape=(7,)\n",
            "                modality=low_dim\n",
            "                net=(Linear(in_features=1024, out_features=7, bias=True))\n",
            "            )\n",
            "        )\n",
            "    )\n",
            "  )\n",
            ")\n"
          ]
        }
      ]
    },
    {
      "cell_type": "markdown",
      "source": [
        "## 4. Build a simple training loop\n",
        "\n",
        "Here we build a simple data loader pipeline and a training loop. Note that this code snippet is only instructional and is a stripped-down version of robomimic's main training loop (`robomimic/scripts/train.py`)."
      ],
      "metadata": {
        "id": "xxa1d9Te3CUm"
      }
    },
    {
      "cell_type": "code",
      "source": [
        "\"\"\"\n",
        "WARNING: This code snippet is only for instructive purposes, and is missing several useful\n",
        "         components used during training such as logging and rollout evaluation.\n",
        "\"\"\"\n",
        "def get_data_loader(dataset_path):\n",
        "    \"\"\"\n",
        "    Get a data loader to sample batches of data.\n",
        "    Args:\n",
        "        dataset_path (str): path to the dataset hdf5\n",
        "    \"\"\"\n",
        "    dataset = SequenceDataset(\n",
        "        hdf5_path=dataset_path,\n",
        "        obs_keys=(                      # observations we want to appear in batches\n",
        "            \"robot0_eef_pos\",\n",
        "            \"robot0_eef_quat\",\n",
        "            \"robot0_gripper_qpos\",\n",
        "            \"object\",\n",
        "        ),\n",
        "        dataset_keys=(                  # can optionally specify more keys here if they should appear in batches\n",
        "            \"actions\",\n",
        "            \"rewards\",\n",
        "            \"dones\",\n",
        "        ),\n",
        "        load_next_obs=True,\n",
        "        frame_stack=1,\n",
        "        seq_length=10,                  # length-10 temporal sequences\n",
        "        pad_frame_stack=True,\n",
        "        pad_seq_length=True,            # pad last obs per trajectory to ensure all sequences are sampled\n",
        "        get_pad_mask=False,\n",
        "        goal_mode=None,\n",
        "        hdf5_cache_mode=\"all\",          # cache dataset in memory to avoid repeated file i/o\n",
        "        hdf5_use_swmr=True,\n",
        "        hdf5_normalize_obs=False,\n",
        "        filter_by_attribute=None,       # can optionally provide a filter key here\n",
        "    )\n",
        "    print(\"\\n============= Created Dataset =============\")\n",
        "    print(dataset)\n",
        "    print(\"\")\n",
        "\n",
        "    data_loader = DataLoader(\n",
        "        dataset=dataset,\n",
        "        sampler=None,       # no custom sampling logic (uniform sampling)\n",
        "        batch_size=100,     # batches of size 100\n",
        "        shuffle=True,\n",
        "        num_workers=0,\n",
        "        drop_last=True      # don't provide last batch in dataset pass if it's less than 100 in size\n",
        "    )\n",
        "    return data_loader\n",
        "\n",
        "\n",
        "def run_train_loop(model, data_loader, num_epochs=50, gradient_steps_per_epoch=100):\n",
        "    \"\"\"\n",
        "    Note: this is a stripped down version of @TrainUtils.run_epoch and the train loop\n",
        "    in the train function in train.py. Logging and evaluation rollouts were removed.\n",
        "    Args:\n",
        "        model (Algo instance): instance of Algo class to use for training\n",
        "        data_loader (torch.utils.data.DataLoader instance): torch DataLoader for\n",
        "            sampling batches\n",
        "    \"\"\"\n",
        "    # ensure model is in train mode\n",
        "    model.set_train()\n",
        "\n",
        "    for epoch in range(1, num_epochs + 1): # epoch numbers start at 1\n",
        "\n",
        "        # iterator for data_loader - it yields batches\n",
        "        data_loader_iter = iter(data_loader)\n",
        "\n",
        "        # record losses\n",
        "        losses = []\n",
        "\n",
        "        for _ in range(gradient_steps_per_epoch):\n",
        "\n",
        "            # load next batch from data loader\n",
        "            try:\n",
        "                batch = next(data_loader_iter)\n",
        "            except StopIteration:\n",
        "                # data loader ran out of batches - reset and yield first batch\n",
        "                data_loader_iter = iter(data_loader)\n",
        "                batch = next(data_loader_iter)\n",
        "\n",
        "            # process batch for training\n",
        "            input_batch = model.process_batch_for_training(batch)\n",
        "\n",
        "            # forward and backward pass\n",
        "            info = model.train_on_batch(batch=input_batch, epoch=epoch, validate=False)\n",
        "\n",
        "            # record loss\n",
        "            step_log = model.log_info(info)\n",
        "            losses.append(step_log[\"Loss\"])\n",
        "\n",
        "        # do anything model needs to after finishing epoch\n",
        "        model.on_epoch_end(epoch)\n",
        "\n",
        "        print(\"Train Epoch {}: Loss {}\".format(epoch, np.mean(losses)))\n"
      ],
      "metadata": {
        "id": "xkxeqO3B37YG"
      },
      "execution_count": null,
      "outputs": []
    },
    {
      "cell_type": "markdown",
      "source": [
        "## 5. Run policy training\n",
        "\n",
        "Using the model and the training loop defined above. Note that this simple training loop does not save checkpoint. For model checkpointing, take a look at the full-feature [training loop](https://github.com/ARISE-Initiative/robomimic/blob/master/robomimic/scripts/train.py#L290) and the [documentation](https://robomimic.github.io/docs/tutorials/viewing_results.html)"
      ],
      "metadata": {
        "id": "HUeL98Qr6lfU"
      }
    },
    {
      "cell_type": "code",
      "source": [
        "# get dataset loader\n",
        "data_loader = get_data_loader(dataset_path=dataset_path)\n",
        "\n",
        "# run training loop\n",
        "run_train_loop(model=model, data_loader=data_loader, num_epochs=50, gradient_steps_per_epoch=100)"
      ],
      "metadata": {
        "id": "_aZq79x74J1B",
        "colab": {
          "base_uri": "https://localhost:8080/"
        },
        "outputId": "7a5c757d-65d0-4f01-de0d-127ba38ee004"
      },
      "execution_count": null,
      "outputs": [
        {
          "output_type": "stream",
          "name": "stdout",
          "text": [
            "SequenceDataset: loading dataset into memory...\n",
            "100%|██████████| 200/200 [00:01<00:00, 196.17it/s]\n",
            "SequenceDataset: caching get_item calls...\n",
            "100%|██████████| 9666/9666 [00:03<00:00, 2617.09it/s]\n",
            "\n",
            "============= Created Dataset =============\n",
            "SequenceDataset (\n",
            "\tpath=/content/robomimic_data/low_dim_v15.hdf5\n",
            "\tobs_keys=('robot0_eef_pos', 'robot0_eef_quat', 'robot0_gripper_qpos', 'object')\n",
            "\tseq_length=10\n",
            "\tfilter_key=none\n",
            "\tframe_stack=1\n",
            "\tpad_seq_length=True\n",
            "\tpad_frame_stack=True\n",
            "\tgoal_mode=none\n",
            "\tcache_mode=all\n",
            "\tnum_demos=200\n",
            "\tnum_sequences=9666\n",
            ")\n",
            "\n",
            "Train Epoch 1: Loss 0.15524898126721381\n",
            "Train Epoch 2: Loss 0.11165769793093204\n",
            "Train Epoch 3: Loss 0.08143286868929862\n",
            "Train Epoch 4: Loss 0.06490851897746325\n",
            "Train Epoch 5: Loss 0.05470360733568668\n",
            "Train Epoch 6: Loss 0.049214494675397874\n",
            "Train Epoch 7: Loss 0.045212175957858564\n",
            "Train Epoch 8: Loss 0.04199672447517514\n",
            "Train Epoch 9: Loss 0.04000731229782104\n",
            "Train Epoch 10: Loss 0.03846870074048638\n",
            "Train Epoch 11: Loss 0.0373898059502244\n",
            "Train Epoch 12: Loss 0.03637679036706686\n",
            "Train Epoch 13: Loss 0.035297782942652706\n",
            "Train Epoch 14: Loss 0.034231841936707495\n",
            "Train Epoch 15: Loss 0.033089306466281415\n",
            "Train Epoch 16: Loss 0.032532759122550485\n",
            "Train Epoch 17: Loss 0.03192221682518721\n",
            "Train Epoch 18: Loss 0.03129537908360362\n",
            "Train Epoch 19: Loss 0.031540083978325126\n",
            "Train Epoch 20: Loss 0.0304497586004436\n",
            "Train Epoch 21: Loss 0.03007837362587452\n",
            "Train Epoch 22: Loss 0.029871550854295492\n",
            "Train Epoch 23: Loss 0.029660346191376447\n",
            "Train Epoch 24: Loss 0.028745633959770204\n",
            "Train Epoch 25: Loss 0.02838877970352769\n",
            "Train Epoch 26: Loss 0.028806186877191067\n",
            "Train Epoch 27: Loss 0.027581932209432124\n",
            "Train Epoch 28: Loss 0.027618896644562484\n",
            "Train Epoch 29: Loss 0.02801556596532464\n",
            "Train Epoch 30: Loss 0.02750940278172493\n",
            "Train Epoch 31: Loss 0.027006445238366723\n",
            "Train Epoch 32: Loss 0.027109766881912946\n",
            "Train Epoch 33: Loss 0.026466304659843443\n",
            "Train Epoch 34: Loss 0.026383191673085095\n",
            "Train Epoch 35: Loss 0.02641735811717808\n",
            "Train Epoch 36: Loss 0.02681464304216206\n",
            "Train Epoch 37: Loss 0.02611055249348283\n",
            "Train Epoch 38: Loss 0.025913408175110817\n",
            "Train Epoch 39: Loss 0.026056510927155614\n",
            "Train Epoch 40: Loss 0.026412516999989748\n",
            "Train Epoch 41: Loss 0.02584395106881857\n",
            "Train Epoch 42: Loss 0.025733171897009015\n",
            "Train Epoch 43: Loss 0.025527408337220548\n",
            "Train Epoch 44: Loss 0.0253140583448112\n",
            "Train Epoch 45: Loss 0.025317205227911473\n",
            "Train Epoch 46: Loss 0.02480296827852726\n",
            "Train Epoch 47: Loss 0.02459619442932308\n",
            "Train Epoch 48: Loss 0.02496058126911521\n",
            "Train Epoch 49: Loss 0.02522708640433848\n",
            "Train Epoch 50: Loss 0.024655427504330873\n"
          ]
        }
      ]
    },
    {
      "cell_type": "markdown",
      "source": [
        "## 6. Evaluate and visualize trained policy\n",
        "\n",
        "Here we execute the trained policy `model` in a simulated environment and play the rollout video."
      ],
      "metadata": {
        "id": "4GozrJNd7-s8"
      }
    },
    {
      "cell_type": "code",
      "source": [
        "# create simulation environment\n",
        "\n",
        "import robomimic.utils.env_utils as EnvUtils\n",
        "\n",
        "env_meta = FileUtils.get_env_metadata_from_dataset(dataset_path)\n",
        "\n",
        "env = EnvUtils.create_env_from_metadata(\n",
        "    env_meta=env_meta,\n",
        "    env_name=env_meta[\"env_name\"],\n",
        "    render=False,\n",
        "    render_offscreen=True,\n",
        "    use_image_obs=False,\n",
        ")"
      ],
      "metadata": {
        "id": "x9Oe1qveJxE3",
        "colab": {
          "base_uri": "https://localhost:8080/"
        },
        "outputId": "11f5b7d5-2ab4-43f2-d2bc-5c3366455fba"
      },
      "execution_count": null,
      "outputs": [
        {
          "output_type": "stream",
          "name": "stderr",
          "text": [
            "[robosuite WARNING] No private macro file found! (macros.py:53)\n",
            "WARNING:robosuite_logs:No private macro file found!\n",
            "[robosuite WARNING] It is recommended to use a private macro file (macros.py:54)\n",
            "WARNING:robosuite_logs:It is recommended to use a private macro file\n",
            "[robosuite WARNING] To setup, run: python /usr/local/lib/python3.11/dist-packages/robosuite/scripts/setup_macros.py (macros.py:55)\n",
            "WARNING:robosuite_logs:To setup, run: python /usr/local/lib/python3.11/dist-packages/robosuite/scripts/setup_macros.py\n",
            "[robosuite WARNING] Could not import robosuite_models. Some robots may not be available. If you want to use these robots, please install robosuite_models from source (https://github.com/ARISE-Initiative/robosuite_models) or through pip install. (__init__.py:30)\n",
            "WARNING:robosuite_logs:Could not import robosuite_models. Some robots may not be available. If you want to use these robots, please install robosuite_models from source (https://github.com/ARISE-Initiative/robosuite_models) or through pip install.\n",
            "[robosuite WARNING] Could not load the mink-based whole-body IK. Make sure you install related import properly, otherwise you will not be able to use the default IK controller setting for GR1 robot. (__init__.py:40)\n",
            "WARNING:robosuite_logs:Could not load the mink-based whole-body IK. Make sure you install related import properly, otherwise you will not be able to use the default IK controller setting for GR1 robot.\n"
          ]
        },
        {
          "output_type": "stream",
          "name": "stdout",
          "text": [
            "Created environment with name Lift\n",
            "Action size is 7\n"
          ]
        }
      ]
    },
    {
      "cell_type": "code",
      "source": [
        "from robomimic.algo import RolloutPolicy\n",
        "from robomimic.utils.train_utils import run_rollout\n",
        "import imageio\n",
        "\n",
        "# create a thin wrapper around the model to interact with the environment\n",
        "policy = RolloutPolicy(model)\n",
        "\n",
        "# create a video writer\n",
        "video_path = \"rollout.mp4\"\n",
        "video_writer = imageio.get_writer(video_path, fps=20)\n",
        "\n",
        "# run rollout\n",
        "rollout_log = run_rollout(\n",
        "    policy=policy,\n",
        "    env=env,\n",
        "    horizon=200,\n",
        "    video_writer=video_writer,\n",
        "    render=False\n",
        ")\n",
        "\n",
        "video_writer.close()\n",
        "# print rollout results\n",
        "print(rollout_log)"
      ],
      "metadata": {
        "id": "yboDeTXi7Qxz",
        "colab": {
          "base_uri": "https://localhost:8080/"
        },
        "outputId": "06e7e1f6-0eac-4a8b-d6cf-5c3f5a48c2ae"
      },
      "execution_count": null,
      "outputs": [
        {
          "output_type": "stream",
          "name": "stdout",
          "text": [
            "{'Return': 145.0, 'Horizon': 200, 'Success_Rate': 1.0}\n"
          ]
        }
      ]
    },
    {
      "cell_type": "code",
      "source": [
        "# visualize rollout video\n",
        "\n",
        "from IPython.display import HTML\n",
        "from base64 import b64encode\n",
        "\n",
        "mp4 = open(video_path, \"rb\").read()\n",
        "data_url = \"data:video/mp4;base64,\" + b64encode(mp4).decode()\n",
        "HTML(f\"\"\"\n",
        "<video width=400 controls>\n",
        "      <source src=\"{data_url}\" type=\"video/mp4\">\n",
        "</video>\n",
        "\"\"\")"
      ],
      "metadata": {
        "id": "hm35ompoQ3V6",
        "colab": {
          "base_uri": "https://localhost:8080/",
          "height": 421
        },
        "outputId": "4eb3cd48-d408-4a6b-8c0d-aed5f3b38f96"
      },
      "execution_count": null,
      "outputs": [
        {
          "output_type": "execute_result",
          "data": {
            "text/plain": [
              "<IPython.core.display.HTML object>"
            ],
            "text/html": [
              "\n",
              "<video width=400 controls>\n",
              "      <source src=\"data:video/mp4;base64,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\" type=\"video/mp4\">\n",
              "</video>\n"
            ]
          },
          "metadata": {},
          "execution_count": 14
        }
      ]
    },
    {
      "cell_type": "markdown",
      "source": [
        "## What's next?\n",
        "\n",
        "Now that you understand the basic components of robomimic, it's time to delve deeper into each component by reading up the [documentation site](https://robomimic.github.io/docs/introduction/overview.html). Robomimic offers a rich set of utilities for model building, training loop management, model checkpointing, visualization, hyper-parameter sweeping, and logging. You can get to more about each component by following the provided the examples and tutorials.\n",
        "\n"
      ],
      "metadata": {
        "id": "zAVQQTf6SL7T"
      }
    }
  ]
}