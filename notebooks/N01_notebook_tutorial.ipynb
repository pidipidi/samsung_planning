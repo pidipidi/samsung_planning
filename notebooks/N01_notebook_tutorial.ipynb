{
  "cells": [
    {
      "cell_type": "markdown",
      "metadata": {
        "id": "6rt42VWZSpHV"
      },
      "source": [
        "[![Open In Colab](https://colab.research.google.com/assets/colab-badge.svg)](https://colab.research.google.com/github/pidipidi/samsung_planning/notebooks/N01_notebook_tutorial.ipynb)\n",
        "\n",
        "# **Task planning and motion planning class**\n",
        "* **Google Collab Tutorial (How to use)**  \n",
        "* Tutorial with Numpy  \n",
        "* Tutorial with PyTorch\n",
        "\n",
        "    \n"
      ]
    },
    {
      "cell_type": "markdown",
      "metadata": {
        "id": "cW14P9qKkVAT"
      },
      "source": [
        "## **1. Google Colab Tutorial**"
      ]
    },
    {
      "cell_type": "markdown",
      "metadata": {
        "id": "rUYXHl_uGSb7"
      },
      "source": [
        "### Variables / Casting / Type\n",
        "\n",
        "In Python, a variable is created when you first assign a value to it."
      ]
    },
    {
      "cell_type": "code",
      "execution_count": 1,
      "metadata": {
        "colab": {
          "base_uri": "https://localhost:8080/"
        },
        "id": "MJpjCPWXEpjI",
        "outputId": "f7e47156-5ffd-4445-c54b-f68a8d03a14b"
      },
      "outputs": [
        {
          "output_type": "execute_result",
          "data": {
            "text/plain": [
              "86400"
            ]
          },
          "metadata": {},
          "execution_count": 1
        }
      ],
      "source": [
        "seconds_in_a_day = 24 * 60 * 60\n",
        "seconds_in_a_day\n"
      ]
    },
    {
      "cell_type": "markdown",
      "metadata": {
        "id": "TPw6cPnK4YZv"
      },
      "source": [
        "Variables do not necessarily need to be declared with a specific type."
      ]
    },
    {
      "cell_type": "code",
      "execution_count": 2,
      "metadata": {
        "colab": {
          "base_uri": "https://localhost:8080/"
        },
        "id": "c7nrRFWDEtw-",
        "outputId": "6ea6583b-82f3-424e-ad55-3246ef0e5d36"
      },
      "outputs": [
        {
          "output_type": "stream",
          "name": "stdout",
          "text": [
            "KAIST\n"
          ]
        }
      ],
      "source": [
        "var = 1\n",
        "name = 'KAIST'\n",
        "print(name)"
      ]
    },
    {
      "cell_type": "markdown",
      "metadata": {
        "id": "1XOuzkUu5yEf"
      },
      "source": [
        "If you want to specify the data type of a variable, this can be done with casting."
      ]
    },
    {
      "cell_type": "code",
      "execution_count": 3,
      "metadata": {
        "colab": {
          "base_uri": "https://localhost:8080/"
        },
        "id": "cx9yGlhZ5dkr",
        "outputId": "8d1a2d36-8b01-4e69-a6e4-d8cb9447bec9"
      },
      "outputs": [
        {
          "output_type": "stream",
          "name": "stdout",
          "text": [
            "<class 'int'>\n",
            "<class 'str'>\n"
          ]
        }
      ],
      "source": [
        "print(type(var))\n",
        "var = str(1)\n",
        "print(type(var))"
      ]
    },
    {
      "cell_type": "markdown",
      "metadata": {
        "id": "x5Yfz29YxD6F"
      },
      "source": [
        "Colab notebook also supports LaTeX - a langauge for mathematical notation."
      ]
    },
    {
      "cell_type": "markdown",
      "metadata": {
        "id": "DuSZJwUfxD6G"
      },
      "source": [
        "$\\sqrt{3x-1}+(1+x)^2$"
      ]
    },
    {
      "cell_type": "markdown",
      "metadata": {
        "id": "inf--dfhA3eE"
      },
      "source": [
        "## Display & Output"
      ]
    },
    {
      "cell_type": "markdown",
      "metadata": {
        "id": "3bfa6NcRC85H"
      },
      "source": [
        "The print() function in Python is used to display text or output to the console. It can accept one or more arguments separated by commas, which are then displayed as text on the screen. The print() function is commonly used for debugging and displaying information to the user, such as program output or error messages."
      ]
    },
    {
      "cell_type": "code",
      "execution_count": 4,
      "metadata": {
        "colab": {
          "base_uri": "https://localhost:8080/"
        },
        "id": "1JSPRpKYA7QF",
        "outputId": "af4d25fa-ff60-40ac-ccc5-15fbbddebedb"
      },
      "outputs": [
        {
          "output_type": "stream",
          "name": "stdout",
          "text": [
            "1234\n",
            "KAIST\n",
            "Introduction to AI\n"
          ]
        }
      ],
      "source": [
        "print(1234)\n",
        "print(\"KAIST\")\n",
        "print(\"Introduction\",\"to\", \"AI\")\n"
      ]
    },
    {
      "cell_type": "markdown",
      "metadata": {
        "id": "i4426A0cDaJg"
      },
      "source": [
        "You can also pass multiple arguments to print() function and separate them with a comma. The print() function will automatically add a space between the arguments:"
      ]
    },
    {
      "cell_type": "code",
      "execution_count": 6,
      "metadata": {
        "colab": {
          "base_uri": "https://localhost:8080/"
        },
        "id": "fsccAYzCCz-q",
        "outputId": "a8f7b059-cac8-4b2e-c960-9288b260b465"
      },
      "outputs": [
        {
          "output_type": "stream",
          "name": "stdout",
          "text": [
            "The value of x is 42 and the value of y is 3.14\n"
          ]
        }
      ],
      "source": [
        "x = 42\n",
        "y = 3.14\n",
        "print(\"The value of x is\", x, \"and the value of y is\", y)"
      ]
    },
    {
      "cell_type": "markdown",
      "metadata": {
        "id": "fA4BdhADDwBi"
      },
      "source": [
        "If you want C style, you can also use the print() function as following"
      ]
    },
    {
      "cell_type": "code",
      "execution_count": 7,
      "metadata": {
        "colab": {
          "base_uri": "https://localhost:8080/"
        },
        "id": "_4792OyTD1gS",
        "outputId": "48751e6d-06c4-425c-e89e-2266128e1ed4"
      },
      "outputs": [
        {
          "output_type": "stream",
          "name": "stdout",
          "text": [
            "10*20=200\n"
          ]
        }
      ],
      "source": [
        "print('%d*%d=%d' % (10, 20, 10*20))"
      ]
    },
    {
      "cell_type": "markdown",
      "metadata": {
        "id": "me_Uj7LBHjIL"
      },
      "source": [
        "## Shell commands in IPython\n",
        "\n",
        "You can use various UNIX commands in the cell. The difference is you have to use each command with !. For example, you have to use ls instead of !ls.\n",
        "(More detail: https://jupyter-tutorial.readthedocs.io/en/stable/workspace/ipython/shell.html)\n",
        "\n"
      ]
    },
    {
      "cell_type": "code",
      "execution_count": 8,
      "metadata": {
        "colab": {
          "base_uri": "https://localhost:8080/"
        },
        "id": "c87sz24-HO0S",
        "outputId": "91714d07-c7f4-46a1-9642-38e6430295f2"
      },
      "outputs": [
        {
          "output_type": "stream",
          "name": "stdout",
          "text": [
            "sample_data\n"
          ]
        }
      ],
      "source": [
        "!ls ./"
      ]
    },
    {
      "cell_type": "code",
      "execution_count": 9,
      "metadata": {
        "colab": {
          "base_uri": "https://localhost:8080/"
        },
        "id": "bsXETOy28UW_",
        "outputId": "0b11bc07-a50b-468e-fca8-2703d831cb40"
      },
      "outputs": [
        {
          "output_type": "stream",
          "name": "stdout",
          "text": [
            "/content\n"
          ]
        }
      ],
      "source": [
        "!pwd ./"
      ]
    },
    {
      "cell_type": "code",
      "execution_count": 10,
      "metadata": {
        "colab": {
          "base_uri": "https://localhost:8080/"
        },
        "id": "giqcDDdy-ANS",
        "outputId": "1167d839-9e53-4fd9-b777-e28ad2ef3c39"
      },
      "outputs": [
        {
          "output_type": "stream",
          "name": "stdout",
          "text": [
            "sample_data  test.py\n",
            "test.py\n"
          ]
        }
      ],
      "source": [
        "!touch test.py\n",
        "!ls\n",
        "!mkdir test_folder\n",
        "!mv test.py ./test_folder\n",
        "!ls ./test_folder"
      ]
    },
    {
      "cell_type": "markdown",
      "metadata": {
        "id": "R4E8YKbSI4QE"
      },
      "source": [
        "## Importing modules & libraries\n",
        "\n",
        "To make use of the functions in a module, you’ll need to import the module with an import statement.\n",
        "\n"
      ]
    },
    {
      "cell_type": "code",
      "execution_count": 11,
      "metadata": {
        "colab": {
          "base_uri": "https://localhost:8080/"
        },
        "id": "zx3FYap6HXJ1",
        "outputId": "56e3574f-6b98-4183-cee5-2119718f78fd"
      },
      "outputs": [
        {
          "output_type": "stream",
          "name": "stdout",
          "text": [
            "Sleeping\n",
            "Done Sleeping\n"
          ]
        }
      ],
      "source": [
        "# You can suspend execution of the running cell for the given number of seconds.\n",
        "import time\n",
        "print(\"Sleeping\")\n",
        "time.sleep(30) # sleep for a while; interrupt me!\n",
        "print(\"Done Sleeping\")"
      ]
    },
    {
      "cell_type": "markdown",
      "metadata": {
        "id": "AxGnEgKbE3S8"
      },
      "source": [
        "To import a library that's not in Colaboratory by default, you can use install the library by using `!pip install` or `!apt-get install`.\n",
        "\n",
        "* **PIP** is used to download and install packages directly from PyPI. PyPI is hosted by Python Software Foundation.\n",
        "\n",
        "* **apt-get** is used to download and install packages from Ubuntu repositories which are hosted by Canonical."
      ]
    },
    {
      "cell_type": "code",
      "execution_count": 12,
      "metadata": {
        "colab": {
          "base_uri": "https://localhost:8080/"
        },
        "id": "qWpRFmR2JQu-",
        "outputId": "c18cae52-ef28-4807-89d4-1163fdfaddbd"
      },
      "outputs": [
        {
          "output_type": "stream",
          "name": "stdout",
          "text": [
            "Requirement already satisfied: matplotlib-venn in /usr/local/lib/python3.11/dist-packages (1.1.2)\n",
            "Requirement already satisfied: matplotlib in /usr/local/lib/python3.11/dist-packages (from matplotlib-venn) (3.10.0)\n",
            "Requirement already satisfied: numpy in /usr/local/lib/python3.11/dist-packages (from matplotlib-venn) (2.0.2)\n",
            "Requirement already satisfied: scipy in /usr/local/lib/python3.11/dist-packages (from matplotlib-venn) (1.16.1)\n",
            "Requirement already satisfied: contourpy>=1.0.1 in /usr/local/lib/python3.11/dist-packages (from matplotlib->matplotlib-venn) (1.3.3)\n",
            "Requirement already satisfied: cycler>=0.10 in /usr/local/lib/python3.11/dist-packages (from matplotlib->matplotlib-venn) (0.12.1)\n",
            "Requirement already satisfied: fonttools>=4.22.0 in /usr/local/lib/python3.11/dist-packages (from matplotlib->matplotlib-venn) (4.59.0)\n",
            "Requirement already satisfied: kiwisolver>=1.3.1 in /usr/local/lib/python3.11/dist-packages (from matplotlib->matplotlib-venn) (1.4.9)\n",
            "Requirement already satisfied: packaging>=20.0 in /usr/local/lib/python3.11/dist-packages (from matplotlib->matplotlib-venn) (25.0)\n",
            "Requirement already satisfied: pillow>=8 in /usr/local/lib/python3.11/dist-packages (from matplotlib->matplotlib-venn) (11.3.0)\n",
            "Requirement already satisfied: pyparsing>=2.3.1 in /usr/local/lib/python3.11/dist-packages (from matplotlib->matplotlib-venn) (3.2.3)\n",
            "Requirement already satisfied: python-dateutil>=2.7 in /usr/local/lib/python3.11/dist-packages (from matplotlib->matplotlib-venn) (2.9.0.post0)\n",
            "Requirement already satisfied: six>=1.5 in /usr/local/lib/python3.11/dist-packages (from python-dateutil>=2.7->matplotlib->matplotlib-venn) (1.17.0)\n"
          ]
        }
      ],
      "source": [
        "!pip install matplotlib-venn"
      ]
    },
    {
      "cell_type": "code",
      "execution_count": 13,
      "metadata": {
        "colab": {
          "base_uri": "https://localhost:8080/"
        },
        "id": "EogtVuaDJRee",
        "outputId": "19cf17ae-e928-44d4-8e9c-3213e42587f4"
      },
      "outputs": [
        {
          "output_type": "stream",
          "name": "stdout",
          "text": [
            "Reading package lists... Done\n",
            "Building dependency tree... Done\n",
            "Reading state information... Done\n",
            "Suggested packages:\n",
            "  python-numpy-doc python3-pytest\n",
            "The following NEW packages will be installed:\n",
            "  python3-numpy\n",
            "0 upgraded, 1 newly installed, 0 to remove and 35 not upgraded.\n",
            "Need to get 3,467 kB of archives.\n",
            "After this operation, 18.9 MB of additional disk space will be used.\n",
            "Get:1 http://archive.ubuntu.com/ubuntu jammy-updates/main amd64 python3-numpy amd64 1:1.21.5-1ubuntu22.04.1 [3,467 kB]\n",
            "Fetched 3,467 kB in 2s (2,004 kB/s)\n",
            "Selecting previously unselected package python3-numpy.\n",
            "(Reading database ... 126380 files and directories currently installed.)\n",
            "Preparing to unpack .../python3-numpy_1%3a1.21.5-1ubuntu22.04.1_amd64.deb ...\n",
            "Unpacking python3-numpy (1:1.21.5-1ubuntu22.04.1) ...\n",
            "Setting up python3-numpy (1:1.21.5-1ubuntu22.04.1) ...\n"
          ]
        }
      ],
      "source": [
        "!apt-get install -y python3-numpy"
      ]
    },
    {
      "cell_type": "markdown",
      "metadata": {
        "id": "DOY_ICkYJbTj"
      },
      "source": [
        "You can also install 7zip reader, libarchive"
      ]
    },
    {
      "cell_type": "code",
      "execution_count": 14,
      "metadata": {
        "colab": {
          "base_uri": "https://localhost:8080/"
        },
        "id": "eMFiMYO_JXrM",
        "outputId": "e4e42268-9cde-4036-d4d8-ea00840021ca"
      },
      "outputs": [
        {
          "output_type": "stream",
          "name": "stdout",
          "text": [
            "Selecting previously unselected package libarchive-dev:amd64.\n",
            "(Reading database ... \r(Reading database ... 5%\r(Reading database ... 10%\r(Reading database ... 15%\r(Reading database ... 20%\r(Reading database ... 25%\r(Reading database ... 30%\r(Reading database ... 35%\r(Reading database ... 40%\r(Reading database ... 45%\r(Reading database ... 50%\r(Reading database ... 55%\r(Reading database ... 60%\r(Reading database ... 65%\r(Reading database ... 70%\r(Reading database ... 75%\r(Reading database ... 80%\r(Reading database ... 85%\r(Reading database ... 90%\r(Reading database ... 95%\r(Reading database ... 100%\r(Reading database ... 127164 files and directories currently installed.)\n",
            "Preparing to unpack .../libarchive-dev_3.6.0-1ubuntu1.5_amd64.deb ...\n",
            "Unpacking libarchive-dev:amd64 (3.6.0-1ubuntu1.5) ...\n",
            "Setting up libarchive-dev:amd64 (3.6.0-1ubuntu1.5) ...\n",
            "Processing triggers for man-db (2.10.2-1) ...\n",
            "Collecting libarchive\n",
            "  Downloading libarchive-0.4.7.tar.gz (23 kB)\n",
            "  Preparing metadata (setup.py) ... \u001b[?25l\u001b[?25hdone\n",
            "Collecting nose (from libarchive)\n",
            "  Downloading nose-1.3.7-py3-none-any.whl.metadata (1.7 kB)\n",
            "Downloading nose-1.3.7-py3-none-any.whl (154 kB)\n",
            "\u001b[2K   \u001b[90m━━━━━━━━━━━━━━━━━━━━━━━━━━━━━━━━━━━━━━━━\u001b[0m \u001b[32m154.7/154.7 kB\u001b[0m \u001b[31m15.7 MB/s\u001b[0m eta \u001b[36m0:00:00\u001b[0m\n",
            "\u001b[?25hBuilding wheels for collected packages: libarchive\n",
            "  Building wheel for libarchive (setup.py) ... \u001b[?25l\u001b[?25hdone\n",
            "  Created wheel for libarchive: filename=libarchive-0.4.7-py3-none-any.whl size=31629 sha256=7096050455cb2a59b3956074374913d25a61d13cdcdd6631f321212ea8d28257\n",
            "  Stored in directory: /root/.cache/pip/wheels/32/98/bd/4893d6923dd027f455b250367d402bfd69a6f4416581df46db\n",
            "Successfully built libarchive\n",
            "Installing collected packages: nose, libarchive\n",
            "Successfully installed libarchive-0.4.7 nose-1.3.7\n"
          ]
        }
      ],
      "source": [
        "# https://pypi.python.org/pypi/libarchive\n",
        "!apt-get -qq install -y libarchive-dev && pip install -U libarchive\n",
        "import libarchive"
      ]
    },
    {
      "cell_type": "markdown",
      "metadata": {
        "id": "sLLHc38fJphT"
      },
      "source": [
        "Install GraphViz & PyDot\n"
      ]
    },
    {
      "cell_type": "code",
      "execution_count": 15,
      "metadata": {
        "colab": {
          "base_uri": "https://localhost:8080/"
        },
        "id": "BX-7ozcjJq_h",
        "outputId": "86f48cec-9aa6-4741-b268-c8ade9b661b5"
      },
      "outputs": [
        {
          "output_type": "stream",
          "name": "stdout",
          "text": [
            "Requirement already satisfied: pydot in /usr/local/lib/python3.11/dist-packages (3.0.4)\n",
            "Requirement already satisfied: pyparsing>=3.0.9 in /usr/local/lib/python3.11/dist-packages (from pydot) (3.2.3)\n"
          ]
        }
      ],
      "source": [
        "# https://pypi.python.org/pypi/pydot\n",
        "!apt-get -qq install -y graphviz && pip install pydot\n",
        "import pydot"
      ]
    },
    {
      "cell_type": "markdown",
      "metadata": {
        "id": "CyUVZaMuK3qk"
      },
      "source": [
        "##  Google Colab with GitHub\n",
        "\n",
        "### How to get an access to the assignment (github)\n",
        "- Navigate to http://colab.research.google.com/github.\n",
        "- Enter a github url as https://github.com/pidipidi/samsung_planning\n",
        "- Click the \"Include Private Repos\" checkbox.\n",
        "- In the popup window, sign-in to your Github account and authorize Colab to read the private files.\n",
        "- Your private repositories and notebooks will now be available via the github navigation pane.\n",
        "\n",
        "### Enabling and testing the GPU\n",
        "\n",
        "First, you'll need to enable GPUs for the notebook:\n",
        "\n",
        "- Navigate to Edit→Notebook Settings\n",
        "- select GPU from the Hardware Accelerator drop-down\n",
        "\n",
        "Next, we'll confirm that we can connect to the GPU with pytorch:\n"
      ]
    },
    {
      "cell_type": "code",
      "execution_count": 16,
      "metadata": {
        "colab": {
          "base_uri": "https://localhost:8080/",
          "height": 36
        },
        "id": "ZR1fHUR-Lxsf",
        "outputId": "9a930957-f2f4-411d-bd5c-3b97121ce7e6"
      },
      "outputs": [
        {
          "output_type": "execute_result",
          "data": {
            "text/plain": [
              "'Tesla T4'"
            ],
            "application/vnd.google.colaboratory.intrinsic+json": {
              "type": "string"
            }
          },
          "metadata": {},
          "execution_count": 16
        }
      ],
      "source": [
        "import torch\n",
        "torch.cuda.is_available()\n",
        "torch.cuda.device_count()\n",
        "torch.cuda.current_device()\n",
        "torch.cuda.device(0)\n",
        "torch.cuda.get_device_name(0)"
      ]
    }
  ],
  "metadata": {
    "accelerator": "GPU",
    "colab": {
      "provenance": []
    },
    "gpuClass": "standard",
    "kernelspec": {
      "display_name": "Python 3",
      "name": "python3"
    },
    "language_info": {
      "name": "python"
    }
  },
  "nbformat": 4,
  "nbformat_minor": 0
}