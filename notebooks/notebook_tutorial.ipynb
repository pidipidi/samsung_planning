{
  "cells": [
    {
      "cell_type": "markdown",
      "metadata": {
        "id": "6rt42VWZSpHV"
      },
      "source": [
        "[![Open In Colab](https://colab.research.google.com/assets/colab-badge.svg)](https://colab.research.google.com/github/pidipidi/samsung_planning/notebooks/notebook_tutorial.ipynb)\n",
        "\n",
        "# **Task planning and motion planning class**\n",
        "* **Google Collab Tutorial (How to use)**  \n",
        "* DL Tutorial with Numpy  \n",
        "* DL Tutorial with PyTorch\n",
        "\n",
        "    \n"
      ]
    },
    {
      "cell_type": "markdown",
      "metadata": {
        "id": "cW14P9qKkVAT"
      },
      "source": [
        "## **1. Google Colab Tutorial**"
      ]
    },
    {
      "cell_type": "markdown",
      "metadata": {
        "id": "rUYXHl_uGSb7"
      },
      "source": [
        "### Variables / Casting / Type \n",
        "\n",
        "In Python, a variable is created when you first assign a value to it."
      ]
    },
    {
      "cell_type": "code",
      "execution_count": null,
      "metadata": {
        "colab": {
          "base_uri": "https://localhost:8080/"
        },
        "id": "MJpjCPWXEpjI",
        "outputId": "a4ea6671-afd1-4ad9-d449-0a572c59f88a"
      },
      "outputs": [
        {
          "data": {
            "text/plain": [
              "86400"
            ]
          },
          "execution_count": 1,
          "metadata": {},
          "output_type": "execute_result"
        }
      ],
      "source": [
        "seconds_in_a_day = 24 * 60 * 60\n",
        "seconds_in_a_day\n"
      ]
    },
    {
      "cell_type": "markdown",
      "metadata": {
        "id": "TPw6cPnK4YZv"
      },
      "source": [
        "Variables do not necessarily need to be declared with a specific type."
      ]
    },
    {
      "cell_type": "code",
      "execution_count": null,
      "metadata": {
        "colab": {
          "base_uri": "https://localhost:8080/"
        },
        "id": "c7nrRFWDEtw-",
        "outputId": "cd091b5f-29db-4eb5-f30c-126f7e1de5dd"
      },
      "outputs": [
        {
          "name": "stdout",
          "output_type": "stream",
          "text": [
            "KAIST\n"
          ]
        }
      ],
      "source": [
        "var = 1\n",
        "name = 'KAIST'\n",
        "print(name)"
      ]
    },
    {
      "cell_type": "markdown",
      "metadata": {
        "id": "1XOuzkUu5yEf"
      },
      "source": [
        "If you want to specify the data type of a variable, this can be done with casting."
      ]
    },
    {
      "cell_type": "code",
      "execution_count": null,
      "metadata": {
        "colab": {
          "base_uri": "https://localhost:8080/"
        },
        "id": "cx9yGlhZ5dkr",
        "outputId": "511b526c-70ab-4fff-f98b-febcd14ce55b"
      },
      "outputs": [
        {
          "name": "stdout",
          "output_type": "stream",
          "text": [
            "<class 'int'>\n",
            "<class 'str'>\n"
          ]
        }
      ],
      "source": [
        "print(type(var))\n",
        "var = str(1)\n",
        "print(type(var))"
      ]
    },
    {
      "cell_type": "markdown",
      "metadata": {},
      "source": [
        "Colab notebook also supports LaTeX - a langauge for mathematical notation."
      ]
    },
    {
      "cell_type": "markdown",
      "metadata": {},
      "source": [
        "$\\sqrt{3x-1}+(1+x)^2$"
      ]
    },
    {
      "cell_type": "markdown",
      "metadata": {
        "id": "inf--dfhA3eE"
      },
      "source": [
        "## Display & Output"
      ]
    },
    {
      "cell_type": "markdown",
      "metadata": {
        "id": "3bfa6NcRC85H"
      },
      "source": [
        "The print() function in Python is used to display text or output to the console. It can accept one or more arguments separated by commas, which are then displayed as text on the screen. The print() function is commonly used for debugging and displaying information to the user, such as program output or error messages."
      ]
    },
    {
      "cell_type": "code",
      "execution_count": null,
      "metadata": {
        "colab": {
          "base_uri": "https://localhost:8080/"
        },
        "id": "1JSPRpKYA7QF",
        "outputId": "74e9e85b-2bd6-4128-e4f8-4627cc58e19e"
      },
      "outputs": [
        {
          "name": "stdout",
          "output_type": "stream",
          "text": [
            "1234\n",
            "KAIST\n",
            "Introduction to AI\n"
          ]
        }
      ],
      "source": [
        "print(1234)\n",
        "print(\"KAIST\")\n",
        "print(\"Introduction\",\"to\", \"AI\")\n"
      ]
    },
    {
      "cell_type": "markdown",
      "metadata": {
        "id": "i4426A0cDaJg"
      },
      "source": [
        "You can also pass multiple arguments to print() function and separate them with a comma. The print() function will automatically add a space between the arguments:"
      ]
    },
    {
      "cell_type": "code",
      "execution_count": null,
      "metadata": {
        "colab": {
          "base_uri": "https://localhost:8080/"
        },
        "id": "fsccAYzCCz-q",
        "outputId": "4ed1b9b0-40e0-4d0c-a220-0acd8be9b0dd"
      },
      "outputs": [
        {
          "name": "stdout",
          "output_type": "stream",
          "text": [
            "The value of x is 42 and the value of y is 3.14\n"
          ]
        }
      ],
      "source": [
        "x = 42\n",
        "y = 3.14\n",
        "print(\"The value of x is\", x, \"and the value of y is\", y)"
      ]
    },
    {
      "cell_type": "markdown",
      "metadata": {
        "id": "fA4BdhADDwBi"
      },
      "source": [
        "If you want C style, you can also use the print() function as following"
      ]
    },
    {
      "cell_type": "code",
      "execution_count": null,
      "metadata": {
        "colab": {
          "base_uri": "https://localhost:8080/"
        },
        "id": "_4792OyTD1gS",
        "outputId": "8ff7568f-2051-4562-f9fc-2b3285970db4"
      },
      "outputs": [
        {
          "name": "stdout",
          "output_type": "stream",
          "text": [
            "10*20=200\n"
          ]
        }
      ],
      "source": [
        "print('%d*%d=%d' % (10, 20, 10*20))"
      ]
    },
    {
      "cell_type": "markdown",
      "metadata": {
        "id": "me_Uj7LBHjIL"
      },
      "source": [
        "## Shell commands in IPython\n",
        "\n",
        "You can use various UNIX commands in the cell. The difference is you have to use each command with !. For example, you have to use ls instead of !ls. \n",
        "(More detail: https://jupyter-tutorial.readthedocs.io/en/stable/workspace/ipython/shell.html)\n",
        "\n"
      ]
    },
    {
      "cell_type": "code",
      "execution_count": null,
      "metadata": {
        "colab": {
          "base_uri": "https://localhost:8080/"
        },
        "id": "c87sz24-HO0S",
        "outputId": "859990c7-c056-41d8-932e-4cc7801f0e71"
      },
      "outputs": [
        {
          "name": "stdout",
          "output_type": "stream",
          "text": [
            "sample_data\n"
          ]
        }
      ],
      "source": [
        "!ls ./"
      ]
    },
    {
      "cell_type": "code",
      "execution_count": null,
      "metadata": {
        "colab": {
          "base_uri": "https://localhost:8080/"
        },
        "id": "bsXETOy28UW_",
        "outputId": "a4d3e82f-a6b7-4070-f6a7-3c4594eb350b"
      },
      "outputs": [
        {
          "name": "stdout",
          "output_type": "stream",
          "text": [
            "/content\n"
          ]
        }
      ],
      "source": [
        "!pwd ./"
      ]
    },
    {
      "cell_type": "code",
      "execution_count": null,
      "metadata": {
        "colab": {
          "base_uri": "https://localhost:8080/"
        },
        "id": "giqcDDdy-ANS",
        "outputId": "4412e1a1-a4d9-46ec-e5cb-4776052a022f"
      },
      "outputs": [
        {
          "name": "stdout",
          "output_type": "stream",
          "text": [
            "sample_data  test.py\n",
            "test.py\n"
          ]
        }
      ],
      "source": [
        "!touch test.py\n",
        "!ls\n",
        "!mkdir test_folder\n",
        "!mv test.py ./test_folder\n",
        "!ls ./test_folder"
      ]
    },
    {
      "cell_type": "markdown",
      "metadata": {
        "id": "R4E8YKbSI4QE"
      },
      "source": [
        "## Importing modules & libraries\n",
        "\n",
        "To make use of the functions in a module, you’ll need to import the module with an import statement.\n",
        "\n"
      ]
    },
    {
      "cell_type": "code",
      "execution_count": null,
      "metadata": {
        "colab": {
          "base_uri": "https://localhost:8080/"
        },
        "id": "zx3FYap6HXJ1",
        "outputId": "e9e86822-60c8-4a1a-afaf-b29543dc6cf9"
      },
      "outputs": [
        {
          "name": "stdout",
          "output_type": "stream",
          "text": [
            "Sleeping\n",
            "Done Sleeping\n"
          ]
        }
      ],
      "source": [
        "# You can suspend execution of the running cell for the given number of seconds.\n",
        "import time\n",
        "print(\"Sleeping\")\n",
        "time.sleep(30) # sleep for a while; interrupt me!\n",
        "print(\"Done Sleeping\")"
      ]
    },
    {
      "cell_type": "markdown",
      "metadata": {
        "id": "AxGnEgKbE3S8"
      },
      "source": [
        "To import a library that's not in Colaboratory by default, you can use install the library by using `!pip install` or `!apt-get install`.\n",
        "\n",
        "* **PIP** is used to download and install packages directly from PyPI. PyPI is hosted by Python Software Foundation.\n",
        "\n",
        "* **apt-get** is used to download and install packages from Ubuntu repositories which are hosted by Canonical."
      ]
    },
    {
      "cell_type": "code",
      "execution_count": null,
      "metadata": {
        "colab": {
          "base_uri": "https://localhost:8080/"
        },
        "id": "qWpRFmR2JQu-",
        "outputId": "e332dc5b-d9ea-4bb7-9a1d-5f4a9ec850b6"
      },
      "outputs": [
        {
          "name": "stdout",
          "output_type": "stream",
          "text": [
            "Looking in indexes: https://pypi.org/simple, https://us-python.pkg.dev/colab-wheels/public/simple/\n",
            "Requirement already satisfied: matplotlib-venn in /usr/local/lib/python3.8/dist-packages (0.11.9)\n",
            "Requirement already satisfied: numpy in /usr/local/lib/python3.8/dist-packages (from matplotlib-venn) (1.22.4)\n",
            "Requirement already satisfied: matplotlib in /usr/local/lib/python3.8/dist-packages (from matplotlib-venn) (3.5.3)\n",
            "Requirement already satisfied: scipy in /usr/local/lib/python3.8/dist-packages (from matplotlib-venn) (1.10.1)\n",
            "Requirement already satisfied: pyparsing>=2.2.1 in /usr/local/lib/python3.8/dist-packages (from matplotlib->matplotlib-venn) (3.0.9)\n",
            "Requirement already satisfied: cycler>=0.10 in /usr/local/lib/python3.8/dist-packages (from matplotlib->matplotlib-venn) (0.11.0)\n",
            "Requirement already satisfied: fonttools>=4.22.0 in /usr/local/lib/python3.8/dist-packages (from matplotlib->matplotlib-venn) (4.38.0)\n",
            "Requirement already satisfied: packaging>=20.0 in /usr/local/lib/python3.8/dist-packages (from matplotlib->matplotlib-venn) (23.0)\n",
            "Requirement already satisfied: kiwisolver>=1.0.1 in /usr/local/lib/python3.8/dist-packages (from matplotlib->matplotlib-venn) (1.4.4)\n",
            "Requirement already satisfied: python-dateutil>=2.7 in /usr/local/lib/python3.8/dist-packages (from matplotlib->matplotlib-venn) (2.8.2)\n",
            "Requirement already satisfied: pillow>=6.2.0 in /usr/local/lib/python3.8/dist-packages (from matplotlib->matplotlib-venn) (8.4.0)\n",
            "Requirement already satisfied: six>=1.5 in /usr/local/lib/python3.8/dist-packages (from python-dateutil>=2.7->matplotlib->matplotlib-venn) (1.15.0)\n"
          ]
        }
      ],
      "source": [
        "!pip install matplotlib-venn"
      ]
    },
    {
      "cell_type": "code",
      "execution_count": null,
      "metadata": {
        "colab": {
          "base_uri": "https://localhost:8080/"
        },
        "id": "EogtVuaDJRee",
        "outputId": "628ac0b1-0159-424a-a428-dc182d752461"
      },
      "outputs": [
        {
          "name": "stdout",
          "output_type": "stream",
          "text": [
            "Reading package lists... Done\n",
            "Building dependency tree       \n",
            "Reading state information... Done\n",
            "The following additional packages will be installed:\n",
            "  libpython2-stdlib python-pkg-resources python2 python2-minimal\n",
            "Suggested packages:\n",
            "  python-dev python-pytest python-numpy-dbg python-numpy-doc python-setuptools\n",
            "  python2-doc python-tk\n",
            "The following NEW packages will be installed:\n",
            "  libpython2-stdlib python-numpy python-pkg-resources python2 python2-minimal\n",
            "0 upgraded, 5 newly installed, 0 to remove and 22 not upgraded.\n",
            "Need to get 2,335 kB of archives.\n",
            "After this operation, 13.0 MB of additional disk space will be used.\n",
            "Get:1 http://archive.ubuntu.com/ubuntu focal/universe amd64 python2-minimal amd64 2.7.17-2ubuntu4 [27.5 kB]\n",
            "Get:2 http://archive.ubuntu.com/ubuntu focal/universe amd64 libpython2-stdlib amd64 2.7.17-2ubuntu4 [7,072 B]\n",
            "Get:3 http://archive.ubuntu.com/ubuntu focal/universe amd64 python2 amd64 2.7.17-2ubuntu4 [26.5 kB]\n",
            "Get:4 http://archive.ubuntu.com/ubuntu focal-updates/universe amd64 python-pkg-resources all 44.0.0-2ubuntu0.1 [130 kB]\n",
            "Get:5 http://archive.ubuntu.com/ubuntu focal/universe amd64 python-numpy amd64 1:1.16.5-2ubuntu7 [2,144 kB]\n",
            "Fetched 2,335 kB in 1s (2,578 kB/s)\n",
            "Selecting previously unselected package python2-minimal.\n",
            "(Reading database ... 128215 files and directories currently installed.)\n",
            "Preparing to unpack .../python2-minimal_2.7.17-2ubuntu4_amd64.deb ...\n",
            "Unpacking python2-minimal (2.7.17-2ubuntu4) ...\n",
            "Selecting previously unselected package libpython2-stdlib:amd64.\n",
            "Preparing to unpack .../libpython2-stdlib_2.7.17-2ubuntu4_amd64.deb ...\n",
            "Unpacking libpython2-stdlib:amd64 (2.7.17-2ubuntu4) ...\n",
            "Setting up python2-minimal (2.7.17-2ubuntu4) ...\n",
            "Selecting previously unselected package python2.\n",
            "(Reading database ... 128244 files and directories currently installed.)\n",
            "Preparing to unpack .../python2_2.7.17-2ubuntu4_amd64.deb ...\n",
            "Unpacking python2 (2.7.17-2ubuntu4) ...\n",
            "Selecting previously unselected package python-pkg-resources.\n",
            "Preparing to unpack .../python-pkg-resources_44.0.0-2ubuntu0.1_all.deb ...\n",
            "Unpacking python-pkg-resources (44.0.0-2ubuntu0.1) ...\n",
            "Selecting previously unselected package python-numpy.\n",
            "Preparing to unpack .../python-numpy_1%3a1.16.5-2ubuntu7_amd64.deb ...\n",
            "Unpacking python-numpy (1:1.16.5-2ubuntu7) ...\n",
            "Setting up libpython2-stdlib:amd64 (2.7.17-2ubuntu4) ...\n",
            "Setting up python2 (2.7.17-2ubuntu4) ...\n",
            "Setting up python-pkg-resources (44.0.0-2ubuntu0.1) ...\n",
            "Setting up python-numpy (1:1.16.5-2ubuntu7) ...\n",
            "Processing triggers for man-db (2.9.1-1) ...\n"
          ]
        }
      ],
      "source": [
        "!apt-get install -y python3-numpy"
      ]
    },
    {
      "cell_type": "markdown",
      "metadata": {
        "id": "DOY_ICkYJbTj"
      },
      "source": [
        "You can also install 7zip reader, libarchive"
      ]
    },
    {
      "cell_type": "code",
      "execution_count": null,
      "metadata": {
        "colab": {
          "base_uri": "https://localhost:8080/"
        },
        "id": "eMFiMYO_JXrM",
        "outputId": "6d223a43-7dc7-4b6d-fb68-ebd72b21d76a"
      },
      "outputs": [
        {
          "name": "stdout",
          "output_type": "stream",
          "text": [
            "Selecting previously unselected package libarchive-dev:amd64.\n",
            "(Reading database ... \r(Reading database ... 5%\r(Reading database ... 10%\r(Reading database ... 15%\r(Reading database ... 20%\r(Reading database ... 25%\r(Reading database ... 30%\r(Reading database ... 35%\r(Reading database ... 40%\r(Reading database ... 45%\r(Reading database ... 50%\r(Reading database ... 55%\r(Reading database ... 60%\r(Reading database ... 65%\r(Reading database ... 70%\r(Reading database ... 75%\r(Reading database ... 80%\r(Reading database ... 85%\r(Reading database ... 90%\r(Reading database ... 95%\r(Reading database ... 100%\r(Reading database ... 128732 files and directories currently installed.)\n",
            "Preparing to unpack .../libarchive-dev_3.4.0-2ubuntu1.2_amd64.deb ...\n",
            "Unpacking libarchive-dev:amd64 (3.4.0-2ubuntu1.2) ...\n",
            "Setting up libarchive-dev:amd64 (3.4.0-2ubuntu1.2) ...\n",
            "Processing triggers for man-db (2.9.1-1) ...\n",
            "Looking in indexes: https://pypi.org/simple, https://us-python.pkg.dev/colab-wheels/public/simple/\n",
            "Collecting libarchive\n",
            "  Downloading libarchive-0.4.7.tar.gz (23 kB)\n",
            "  Preparing metadata (setup.py) ... \u001b[?25l\u001b[?25hdone\n",
            "Collecting nose\n",
            "  Downloading nose-1.3.7-py3-none-any.whl (154 kB)\n",
            "\u001b[2K     \u001b[90m━━━━━━━━━━━━━━━━━━━━━━━━━━━━━━━━━━━━━━\u001b[0m \u001b[32m154.7/154.7 KB\u001b[0m \u001b[31m12.3 MB/s\u001b[0m eta \u001b[36m0:00:00\u001b[0m\n",
            "\u001b[?25hBuilding wheels for collected packages: libarchive\n",
            "  Building wheel for libarchive (setup.py) ... \u001b[?25l\u001b[?25hdone\n",
            "  Created wheel for libarchive: filename=libarchive-0.4.7-py3-none-any.whl size=31648 sha256=bf74875549fe99ff49fb69609ff6ad93b804f89642363377e54be3a82fd45088\n",
            "  Stored in directory: /root/.cache/pip/wheels/e2/96/fb/b17d6b9adb7c223428b4c77d9e8bc29f40a51d625389b73461\n",
            "Successfully built libarchive\n",
            "Installing collected packages: nose, libarchive\n",
            "Successfully installed libarchive-0.4.7 nose-1.3.7\n"
          ]
        }
      ],
      "source": [
        "# https://pypi.python.org/pypi/libarchive\n",
        "!apt-get -qq install -y libarchive-dev && pip install -U libarchive\n",
        "import libarchive"
      ]
    },
    {
      "cell_type": "markdown",
      "metadata": {
        "id": "sLLHc38fJphT"
      },
      "source": [
        "Install GraphViz & PyDot\n"
      ]
    },
    {
      "cell_type": "code",
      "execution_count": null,
      "metadata": {
        "colab": {
          "base_uri": "https://localhost:8080/"
        },
        "id": "BX-7ozcjJq_h",
        "outputId": "6d3de257-cbc7-42fc-e401-58b7c6289555"
      },
      "outputs": [
        {
          "name": "stdout",
          "output_type": "stream",
          "text": [
            "Looking in indexes: https://pypi.org/simple, https://us-python.pkg.dev/colab-wheels/public/simple/\n",
            "Requirement already satisfied: pydot in /usr/local/lib/python3.7/dist-packages (1.3.0)\n",
            "Requirement already satisfied: pyparsing>=2.1.4 in /usr/local/lib/python3.7/dist-packages (from pydot) (3.0.9)\n"
          ]
        }
      ],
      "source": [
        "# https://pypi.python.org/pypi/pydot\n",
        "!apt-get -qq install -y graphviz && pip install pydot\n",
        "import pydot"
      ]
    },
    {
      "cell_type": "markdown",
      "metadata": {
        "id": "CyUVZaMuK3qk"
      },
      "source": [
        "##  Google Colab with GitHub\n",
        "\n",
        "### How to get an access to the assignment (github)\n",
        "- Navigate to http://colab.research.google.com/github.\n",
        "- Enter a github url as https://github.com/pidipidi/samsung_planning\n",
        "- Click the \"Include Private Repos\" checkbox.\n",
        "- In the popup window, sign-in to your Github account and authorize Colab to read the private files.\n",
        "- Your private repositories and notebooks will now be available via the github navigation pane.\n",
        "\n",
        "### Enabling and testing the GPU\n",
        "\n",
        "First, you'll need to enable GPUs for the notebook:\n",
        "\n",
        "- Navigate to Edit→Notebook Settings\n",
        "- select GPU from the Hardware Accelerator drop-down\n",
        "\n",
        "Next, we'll confirm that we can connect to the GPU with pytorch:\n"
      ]
    },
    {
      "cell_type": "code",
      "execution_count": null,
      "metadata": {
        "colab": {
          "base_uri": "https://localhost:8080/",
          "height": 36
        },
        "id": "ZR1fHUR-Lxsf",
        "outputId": "bc7dea8e-d88f-4584-bf19-a4810ecd3aad"
      },
      "outputs": [
        {
          "data": {
            "application/vnd.google.colaboratory.intrinsic+json": {
              "type": "string"
            },
            "text/plain": [
              "'Tesla T4'"
            ]
          },
          "execution_count": 1,
          "metadata": {},
          "output_type": "execute_result"
        }
      ],
      "source": [
        "import torch \n",
        "torch.cuda.is_available()\n",
        "torch.cuda.device_count()\n",
        "torch.cuda.current_device()\n",
        "torch.cuda.device(0)\n",
        "torch.cuda.get_device_name(0)"
      ]
    }
  ],
  "metadata": {
    "accelerator": "GPU",
    "colab": {
      "provenance": []
    },
    "gpuClass": "standard",
    "kernelspec": {
      "display_name": "Python 3",
      "name": "python3"
    },
    "language_info": {
      "name": "python"
    }
  },
  "nbformat": 4,
  "nbformat_minor": 0
}
